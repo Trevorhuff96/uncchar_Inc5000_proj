{
 "cells": [
  {
   "cell_type": "code",
   "execution_count": 1,
   "metadata": {},
   "outputs": [],
   "source": [
    "import pandas as pd\n",
    "import numpy as np"
   ]
  },
  {
   "cell_type": "code",
   "execution_count": 2,
   "metadata": {},
   "outputs": [],
   "source": [
    "eu2016= pd.read_csv(\"inc5000eu_2016.csv\", encoding=\"latin1\")\n",
    "eu2017= pd.read_csv(\"inc5000eu_2017.csv\", encoding=\"latin1\")\n",
    "eu2018= pd.read_csv(\"inc500eu_2018.csv\", encoding=\"latin1\")"
   ]
  },
  {
   "cell_type": "code",
   "execution_count": 3,
   "metadata": {},
   "outputs": [
    {
     "data": {
      "text/plain": [
       "Index(['2016 Rank', 'Company', 'URL', 'Address', 'City', 'ZIP',\n",
       "       'Employee Count', 'Founded Year', 'Company Phone', 'Revenue',\n",
       "       'Inc.com URL', 'Growth', 'Revenue Raw', 'Country', 'Industry',\n",
       "       'Years on INC 5000'],\n",
       "      dtype='object')"
      ]
     },
     "execution_count": 3,
     "metadata": {},
     "output_type": "execute_result"
    }
   ],
   "source": [
    "eu2016.columns"
   ]
  },
  {
   "cell_type": "code",
   "execution_count": 4,
   "metadata": {
    "scrolled": true
   },
   "outputs": [
    {
     "data": {
      "text/plain": [
       "Index(['url', 'rank', 'city', 'growth', 'company', 'revenue', 'country',\n",
       "       'industry', 'yrs_on_list'],\n",
       "      dtype='object')"
      ]
     },
     "execution_count": 4,
     "metadata": {},
     "output_type": "execute_result"
    }
   ],
   "source": [
    "eu2017.columns"
   ]
  },
  {
   "cell_type": "code",
   "execution_count": 5,
   "metadata": {},
   "outputs": [],
   "source": [
    "eu2016[\"Year\"]=\"\""
   ]
  },
  {
   "cell_type": "code",
   "execution_count": 6,
   "metadata": {},
   "outputs": [],
   "source": [
    "eu2016.loc[:,'Year']=2016"
   ]
  },
  {
   "cell_type": "code",
   "execution_count": 7,
   "metadata": {},
   "outputs": [],
   "source": [
    "eu2017[\"Year\"]=\"\""
   ]
  },
  {
   "cell_type": "code",
   "execution_count": 8,
   "metadata": {},
   "outputs": [],
   "source": [
    "eu2017.loc[:,'Year']=2017"
   ]
  },
  {
   "cell_type": "code",
   "execution_count": 9,
   "metadata": {},
   "outputs": [],
   "source": [
    "eu2018[\"Year\"]=\"\""
   ]
  },
  {
   "cell_type": "code",
   "execution_count": 10,
   "metadata": {},
   "outputs": [],
   "source": [
    "eu2018.loc[:,'Year']=2018"
   ]
  },
  {
   "cell_type": "code",
   "execution_count": 11,
   "metadata": {},
   "outputs": [
    {
     "data": {
      "text/plain": [
       "Index([' url', ' rank', ' city', ' growth', ' company', ' country', ' revenue',\n",
       "       ' industry', ' yrs_on_list', 'Year'],\n",
       "      dtype='object')"
      ]
     },
     "execution_count": 11,
     "metadata": {},
     "output_type": "execute_result"
    }
   ],
   "source": [
    "eu2018.columns"
   ]
  },
  {
   "cell_type": "markdown",
   "metadata": {},
   "source": [
    "# Make sure all the columns are the same throughout all the DataFrame"
   ]
  },
  {
   "cell_type": "code",
   "execution_count": 12,
   "metadata": {},
   "outputs": [],
   "source": [
    "eu2016 = eu2016.rename(columns={'URL':'url', '2016 Rank':'rank', 'City':'city', 'Growth': 'growth','Company' :'company', 'Revenue Raw':'revenue', \n",
    "                                                      'Country':'country','Industry':'industry', 'Years on INC 5000':'yrs_on_list'})"
   ]
  },
  {
   "cell_type": "code",
   "execution_count": 13,
   "metadata": {},
   "outputs": [],
   "source": [
    "eu2018 = eu2018.rename(columns={' url':'url', ' rank':'rank', ' city':'city', ' growth': 'growth',' company' :'company', ' revenue':'revenue', \n",
    "                                                      ' country':'country',' industry':'industry', ' yrs_on_list':'yrs_on_list'})"
   ]
  },
  {
   "cell_type": "code",
   "execution_count": 14,
   "metadata": {},
   "outputs": [],
   "source": [
    "eu2016New=eu2016.loc[:,['url', 'rank', 'city', 'growth', 'company', 'country', 'revenue',\n",
    "       'industry', 'yrs_on_list', 'Year']]"
   ]
  },
  {
   "cell_type": "code",
   "execution_count": 15,
   "metadata": {},
   "outputs": [
    {
     "data": {
      "text/plain": [
       "Index(['url', 'rank', 'city', 'growth', 'company', 'country', 'revenue',\n",
       "       'industry', 'yrs_on_list', 'Year'],\n",
       "      dtype='object')"
      ]
     },
     "execution_count": 15,
     "metadata": {},
     "output_type": "execute_result"
    }
   ],
   "source": [
    "eu2016New.columns"
   ]
  },
  {
   "cell_type": "code",
   "execution_count": 78,
   "metadata": {},
   "outputs": [],
   "source": [
    "#create list that holds every dataframe\n",
    "list_europe= [eu2016New,eu2017, eu2018]"
   ]
  },
  {
   "cell_type": "code",
   "execution_count": 79,
   "metadata": {},
   "outputs": [
    {
     "data": {
      "text/plain": [
       "Index(['url', 'rank', 'city', 'growth', 'company', 'country', 'revenue',\n",
       "       'industry', 'yrs_on_list', 'Year'],\n",
       "      dtype='object')"
      ]
     },
     "execution_count": 79,
     "metadata": {},
     "output_type": "execute_result"
    }
   ],
   "source": [
    "#create new DataFrame that concates all the seperate tables\n",
    "europeTable=pd.concat(list_europe, sort=False)\n",
    "europeTable.columns"
   ]
  },
  {
   "cell_type": "code",
   "execution_count": 80,
   "metadata": {},
   "outputs": [],
   "source": [
    "#index value goes back to 0 when the year changes\n",
    "#reset the index so the values do not reset to 0 after every new year\n",
    "europeTable= europeTable.reset_index()"
   ]
  },
  {
   "cell_type": "code",
   "execution_count": 81,
   "metadata": {},
   "outputs": [],
   "source": [
    "#drop the original index value\n",
    "europeTable=europeTable.drop(\"index\", axis=1)\n",
    "\n",
    "#drop other unnecessary indices\n",
    "europeTable=europeTable.drop(\"url\", axis=1)\n",
    "europeTable=europeTable.drop(\"rank\", axis=1)"
   ]
  },
  {
   "cell_type": "code",
   "execution_count": null,
   "metadata": {},
   "outputs": [],
   "source": []
  },
  {
   "cell_type": "code",
   "execution_count": 82,
   "metadata": {},
   "outputs": [
    {
     "data": {
      "text/html": [
       "<div>\n",
       "<style scoped>\n",
       "    .dataframe tbody tr th:only-of-type {\n",
       "        vertical-align: middle;\n",
       "    }\n",
       "\n",
       "    .dataframe tbody tr th {\n",
       "        vertical-align: top;\n",
       "    }\n",
       "\n",
       "    .dataframe thead th {\n",
       "        text-align: right;\n",
       "    }\n",
       "</style>\n",
       "<table border=\"1\" class=\"dataframe\">\n",
       "  <thead>\n",
       "    <tr style=\"text-align: right;\">\n",
       "      <th></th>\n",
       "      <th>city</th>\n",
       "      <th>growth</th>\n",
       "      <th>company</th>\n",
       "      <th>country</th>\n",
       "      <th>revenue</th>\n",
       "      <th>industry</th>\n",
       "      <th>yrs_on_list</th>\n",
       "      <th>Year</th>\n",
       "    </tr>\n",
       "  </thead>\n",
       "  <tbody>\n",
       "    <tr>\n",
       "      <th>4990</th>\n",
       "      <td>Parnu</td>\n",
       "      <td>94.4899</td>\n",
       "      <td>Import Auto OU</td>\n",
       "      <td>Estonia</td>\n",
       "      <td>4855748.0</td>\n",
       "      <td>Retail</td>\n",
       "      <td>1</td>\n",
       "      <td>2016</td>\n",
       "    </tr>\n",
       "    <tr>\n",
       "      <th>4991</th>\n",
       "      <td>Istanbul</td>\n",
       "      <td>94.3728</td>\n",
       "      <td>ODC Business Solutions</td>\n",
       "      <td>Turkey</td>\n",
       "      <td>3720418.0</td>\n",
       "      <td>Business Products &amp; Services</td>\n",
       "      <td>1</td>\n",
       "      <td>2016</td>\n",
       "    </tr>\n",
       "    <tr>\n",
       "      <th>4992</th>\n",
       "      <td>Deisslingen</td>\n",
       "      <td>93.3333</td>\n",
       "      <td>Camping-Freizeit Dorn OHG</td>\n",
       "      <td>Germany</td>\n",
       "      <td>5800000.0</td>\n",
       "      <td>Travel &amp; Hospitality</td>\n",
       "      <td>1</td>\n",
       "      <td>2016</td>\n",
       "    </tr>\n",
       "    <tr>\n",
       "      <th>4993</th>\n",
       "      <td>paris</td>\n",
       "      <td>92.2665</td>\n",
       "      <td>Apsia</td>\n",
       "      <td>France</td>\n",
       "      <td>5479404.0</td>\n",
       "      <td>IT Services</td>\n",
       "      <td>1</td>\n",
       "      <td>2016</td>\n",
       "    </tr>\n",
       "    <tr>\n",
       "      <th>4994</th>\n",
       "      <td>Stockholm</td>\n",
       "      <td>4694.9849</td>\n",
       "      <td>Daniel Wellington AB</td>\n",
       "      <td>Sweden</td>\n",
       "      <td>155773187.0</td>\n",
       "      <td>Retail</td>\n",
       "      <td>1</td>\n",
       "      <td>2017</td>\n",
       "    </tr>\n",
       "    <tr>\n",
       "      <th>4995</th>\n",
       "      <td>Tourlaville</td>\n",
       "      <td>3956.7425</td>\n",
       "      <td>LE Petit Vapoteur</td>\n",
       "      <td>France</td>\n",
       "      <td>14535633.0</td>\n",
       "      <td>Retail</td>\n",
       "      <td>1</td>\n",
       "      <td>2017</td>\n",
       "    </tr>\n",
       "    <tr>\n",
       "      <th>4996</th>\n",
       "      <td>Szekesfehervar</td>\n",
       "      <td>3954.0236</td>\n",
       "      <td>Martin Metal Product</td>\n",
       "      <td>Hungary</td>\n",
       "      <td>16473241.0</td>\n",
       "      <td>Construction</td>\n",
       "      <td>1</td>\n",
       "      <td>2017</td>\n",
       "    </tr>\n",
       "    <tr>\n",
       "      <th>4997</th>\n",
       "      <td>Helsinki</td>\n",
       "      <td>3864.1671</td>\n",
       "      <td>Odeal Oy</td>\n",
       "      <td>Finland</td>\n",
       "      <td>16736000.0</td>\n",
       "      <td>Business Products &amp; Services</td>\n",
       "      <td>1</td>\n",
       "      <td>2017</td>\n",
       "    </tr>\n",
       "    <tr>\n",
       "      <th>4998</th>\n",
       "      <td>London</td>\n",
       "      <td>3469.0884</td>\n",
       "      <td>Balyasny Europe Asset Management LLP</td>\n",
       "      <td>United Kingdom</td>\n",
       "      <td>39409838.0</td>\n",
       "      <td>Financial Services</td>\n",
       "      <td>1</td>\n",
       "      <td>2017</td>\n",
       "    </tr>\n",
       "    <tr>\n",
       "      <th>4999</th>\n",
       "      <td>Stockholm</td>\n",
       "      <td>3456.6324</td>\n",
       "      <td>Cabonline Technologies AB</td>\n",
       "      <td>Sweden</td>\n",
       "      <td>9005500.0</td>\n",
       "      <td>Business Products &amp; Services</td>\n",
       "      <td>1</td>\n",
       "      <td>2017</td>\n",
       "    </tr>\n",
       "    <tr>\n",
       "      <th>5000</th>\n",
       "      <td>Corsham</td>\n",
       "      <td>3439.7579</td>\n",
       "      <td>Ukcloud Ltd</td>\n",
       "      <td>United Kingdom</td>\n",
       "      <td>40548528.0</td>\n",
       "      <td>IT Services</td>\n",
       "      <td>1</td>\n",
       "      <td>2017</td>\n",
       "    </tr>\n",
       "    <tr>\n",
       "      <th>5001</th>\n",
       "      <td>Stockholm</td>\n",
       "      <td>3229.8652</td>\n",
       "      <td>Star Stable Entertainment AB</td>\n",
       "      <td>Sweden</td>\n",
       "      <td>9700097.0</td>\n",
       "      <td>Software</td>\n",
       "      <td>1</td>\n",
       "      <td>2017</td>\n",
       "    </tr>\n",
       "    <tr>\n",
       "      <th>5002</th>\n",
       "      <td>Stockholm</td>\n",
       "      <td>3186.2977</td>\n",
       "      <td>Feo Media AB</td>\n",
       "      <td>Sweden</td>\n",
       "      <td>13747109.0</td>\n",
       "      <td>Software</td>\n",
       "      <td>1</td>\n",
       "      <td>2017</td>\n",
       "    </tr>\n",
       "    <tr>\n",
       "      <th>5003</th>\n",
       "      <td>Stockholm</td>\n",
       "      <td>3157.4633</td>\n",
       "      <td>Furniture Box AB</td>\n",
       "      <td>Sweden</td>\n",
       "      <td>36104485.0</td>\n",
       "      <td>Retail</td>\n",
       "      <td>1</td>\n",
       "      <td>2017</td>\n",
       "    </tr>\n",
       "    <tr>\n",
       "      <th>5004</th>\n",
       "      <td>Modena</td>\n",
       "      <td>3143.6532</td>\n",
       "      <td>Ecobloks - S.R.L.</td>\n",
       "      <td>Italy</td>\n",
       "      <td>12179042.0</td>\n",
       "      <td>Environmental Services</td>\n",
       "      <td>1</td>\n",
       "      <td>2017</td>\n",
       "    </tr>\n",
       "    <tr>\n",
       "      <th>5005</th>\n",
       "      <td>London</td>\n",
       "      <td>3109.3841</td>\n",
       "      <td>Smarkets</td>\n",
       "      <td>United Kingdom</td>\n",
       "      <td>14435200.0</td>\n",
       "      <td>Financial Services</td>\n",
       "      <td>1</td>\n",
       "      <td>2017</td>\n",
       "    </tr>\n",
       "    <tr>\n",
       "      <th>5006</th>\n",
       "      <td>Edinburgh</td>\n",
       "      <td>3073.3348</td>\n",
       "      <td>Kiltearn Partners LLP</td>\n",
       "      <td>United Kingdom</td>\n",
       "      <td>45813815.0</td>\n",
       "      <td>Business Products &amp; Services</td>\n",
       "      <td>1</td>\n",
       "      <td>2017</td>\n",
       "    </tr>\n",
       "    <tr>\n",
       "      <th>5007</th>\n",
       "      <td>Saldus nov.</td>\n",
       "      <td>3064.5036</td>\n",
       "      <td>Jets Vacuum SIA</td>\n",
       "      <td>Latvia</td>\n",
       "      <td>6728779.0</td>\n",
       "      <td>Construction</td>\n",
       "      <td>1</td>\n",
       "      <td>2017</td>\n",
       "    </tr>\n",
       "    <tr>\n",
       "      <th>5008</th>\n",
       "      <td>London</td>\n",
       "      <td>3007.5517</td>\n",
       "      <td>Griffin Markets Group Limited</td>\n",
       "      <td>United Kingdom</td>\n",
       "      <td>10008585.0</td>\n",
       "      <td>Financial Services</td>\n",
       "      <td>1</td>\n",
       "      <td>2017</td>\n",
       "    </tr>\n",
       "    <tr>\n",
       "      <th>5009</th>\n",
       "      <td>Helsinki</td>\n",
       "      <td>2980.2610</td>\n",
       "      <td>AdLibris Finland Oy</td>\n",
       "      <td>Finland</td>\n",
       "      <td>18882000.0</td>\n",
       "      <td>Retail</td>\n",
       "      <td>1</td>\n",
       "      <td>2017</td>\n",
       "    </tr>\n",
       "  </tbody>\n",
       "</table>\n",
       "</div>"
      ],
      "text/plain": [
       "                city     growth                               company  \\\n",
       "4990           Parnu    94.4899                        Import Auto OU   \n",
       "4991        Istanbul    94.3728                ODC Business Solutions   \n",
       "4992     Deisslingen    93.3333             Camping-Freizeit Dorn OHG   \n",
       "4993           paris    92.2665                                 Apsia   \n",
       "4994       Stockholm  4694.9849                  Daniel Wellington AB   \n",
       "4995     Tourlaville  3956.7425                     LE Petit Vapoteur   \n",
       "4996  Szekesfehervar  3954.0236                  Martin Metal Product   \n",
       "4997        Helsinki  3864.1671                              Odeal Oy   \n",
       "4998          London  3469.0884  Balyasny Europe Asset Management LLP   \n",
       "4999       Stockholm  3456.6324             Cabonline Technologies AB   \n",
       "5000         Corsham  3439.7579                           Ukcloud Ltd   \n",
       "5001       Stockholm  3229.8652          Star Stable Entertainment AB   \n",
       "5002       Stockholm  3186.2977                          Feo Media AB   \n",
       "5003       Stockholm  3157.4633                      Furniture Box AB   \n",
       "5004          Modena  3143.6532                     Ecobloks - S.R.L.   \n",
       "5005          London  3109.3841                              Smarkets   \n",
       "5006       Edinburgh  3073.3348                 Kiltearn Partners LLP   \n",
       "5007     Saldus nov.  3064.5036                       Jets Vacuum SIA   \n",
       "5008          London  3007.5517         Griffin Markets Group Limited   \n",
       "5009        Helsinki  2980.2610                   AdLibris Finland Oy   \n",
       "\n",
       "             country      revenue                      industry  yrs_on_list  \\\n",
       "4990         Estonia    4855748.0                        Retail            1   \n",
       "4991          Turkey    3720418.0  Business Products & Services            1   \n",
       "4992         Germany    5800000.0          Travel & Hospitality            1   \n",
       "4993          France    5479404.0                   IT Services            1   \n",
       "4994          Sweden  155773187.0                        Retail            1   \n",
       "4995          France   14535633.0                        Retail            1   \n",
       "4996         Hungary   16473241.0                  Construction            1   \n",
       "4997         Finland   16736000.0  Business Products & Services            1   \n",
       "4998  United Kingdom   39409838.0            Financial Services            1   \n",
       "4999          Sweden    9005500.0  Business Products & Services            1   \n",
       "5000  United Kingdom   40548528.0                   IT Services            1   \n",
       "5001          Sweden    9700097.0                      Software            1   \n",
       "5002          Sweden   13747109.0                      Software            1   \n",
       "5003          Sweden   36104485.0                        Retail            1   \n",
       "5004           Italy   12179042.0        Environmental Services            1   \n",
       "5005  United Kingdom   14435200.0            Financial Services            1   \n",
       "5006  United Kingdom   45813815.0  Business Products & Services            1   \n",
       "5007          Latvia    6728779.0                  Construction            1   \n",
       "5008  United Kingdom   10008585.0            Financial Services            1   \n",
       "5009         Finland   18882000.0                        Retail            1   \n",
       "\n",
       "      Year  \n",
       "4990  2016  \n",
       "4991  2016  \n",
       "4992  2016  \n",
       "4993  2016  \n",
       "4994  2017  \n",
       "4995  2017  \n",
       "4996  2017  \n",
       "4997  2017  \n",
       "4998  2017  \n",
       "4999  2017  \n",
       "5000  2017  \n",
       "5001  2017  \n",
       "5002  2017  \n",
       "5003  2017  \n",
       "5004  2017  \n",
       "5005  2017  \n",
       "5006  2017  \n",
       "5007  2017  \n",
       "5008  2017  \n",
       "5009  2017  "
      ]
     },
     "execution_count": 82,
     "metadata": {},
     "output_type": "execute_result"
    }
   ],
   "source": [
    "europeTable.iloc[4990:5010,:]"
   ]
  },
  {
   "cell_type": "code",
   "execution_count": null,
   "metadata": {},
   "outputs": [],
   "source": [
    "#check to see if any null values are in the table"
   ]
  },
  {
   "cell_type": "code",
   "execution_count": 103,
   "metadata": {},
   "outputs": [
    {
     "data": {
      "text/plain": [
       "city           14944\n",
       "growth         14944\n",
       "company        14944\n",
       "country        14944\n",
       "revenue        14944\n",
       "industry       14944\n",
       "yrs_on_list    14944\n",
       "Year           14944\n",
       "dtype: int64"
      ]
     },
     "execution_count": 103,
     "metadata": {},
     "output_type": "execute_result"
    }
   ],
   "source": [
    "europeTable.isnull().any()"
   ]
  },
  {
   "cell_type": "code",
   "execution_count": null,
   "metadata": {},
   "outputs": [],
   "source": [
    "#delete all rows that have no value for the company column"
   ]
  },
  {
   "cell_type": "code",
   "execution_count": 98,
   "metadata": {},
   "outputs": [],
   "source": [
    "europeTable=europeTable.drop(europeTable.loc[(europeTable[\"company\"].isnull()),:].index[:])"
   ]
  },
  {
   "cell_type": "code",
   "execution_count": null,
   "metadata": {},
   "outputs": [],
   "source": [
    "#delete all rows that have no value for the country column"
   ]
  },
  {
   "cell_type": "code",
   "execution_count": 86,
   "metadata": {},
   "outputs": [],
   "source": [
    "europeTable=europeTable.drop(europeTable.loc[(europeTable[\"country\"].isnull()),:].index[:])"
   ]
  },
  {
   "cell_type": "code",
   "execution_count": null,
   "metadata": {},
   "outputs": [],
   "source": [
    "#delete all rows that have no value for the growth column"
   ]
  },
  {
   "cell_type": "code",
   "execution_count": 102,
   "metadata": {},
   "outputs": [],
   "source": [
    "europeTable=europeTable.drop(europeTable.loc[(europeTable[\"growth\"].isnull()),:].index[:])"
   ]
  },
  {
   "cell_type": "code",
   "execution_count": null,
   "metadata": {},
   "outputs": [],
   "source": [
    "#check to see if any null values are in the table"
   ]
  },
  {
   "cell_type": "code",
   "execution_count": 105,
   "metadata": {},
   "outputs": [
    {
     "data": {
      "text/plain": [
       "city           False\n",
       "growth         False\n",
       "company        False\n",
       "country        False\n",
       "revenue        False\n",
       "industry       False\n",
       "yrs_on_list    False\n",
       "Year           False\n",
       "dtype: bool"
      ]
     },
     "execution_count": 105,
     "metadata": {},
     "output_type": "execute_result"
    }
   ],
   "source": [
    "europeTable.isnull().any()"
   ]
  },
  {
   "cell_type": "code",
   "execution_count": null,
   "metadata": {},
   "outputs": [],
   "source": []
  }
 ],
 "metadata": {
  "kernelspec": {
   "display_name": "Python 3",
   "language": "python",
   "name": "python3"
  },
  "language_info": {
   "codemirror_mode": {
    "name": "ipython",
    "version": 3
   },
   "file_extension": ".py",
   "mimetype": "text/x-python",
   "name": "python",
   "nbconvert_exporter": "python",
   "pygments_lexer": "ipython3",
   "version": "3.6.5"
  }
 },
 "nbformat": 4,
 "nbformat_minor": 2
}
