{
 "cells": [
  {
   "cell_type": "markdown",
   "metadata": {},
   "source": [
    "# Group 6 Project 1 Analysis"
   ]
  },
  {
   "cell_type": "markdown",
   "metadata": {},
   "source": [
    "# Initial Data Cleanse"
   ]
  },
  {
   "cell_type": "code",
   "execution_count": 1,
   "metadata": {},
   "outputs": [],
   "source": [
    "import pandas as pd\n",
    "import matplotlib.pyplot as plt\n",
    "import numpy as np\n",
    "import seaborn as sns"
   ]
  },
  {
   "cell_type": "markdown",
   "metadata": {},
   "source": [
    "## Import US data from 2007 to 2018(csv), concat 2018 data, and then clean data. Save csv to folder\n"
   ]
  },
  {
   "cell_type": "code",
   "execution_count": 2,
   "metadata": {},
   "outputs": [],
   "source": [
    "us10yr = pd.read_csv(\"csv_files/inc5000US10years.csv\", delimiter='\\t', encoding=\"UTF-8\")\n",
    "us2018 = pd.read_csv(\"csv_files/US2018.csv\", encoding=\"UTF-8\")"
   ]
  },
  {
   "cell_type": "code",
   "execution_count": 3,
   "metadata": {},
   "outputs": [
    {
     "data": {
      "text/html": [
       "<div>\n",
       "<style scoped>\n",
       "    .dataframe tbody tr th:only-of-type {\n",
       "        vertical-align: middle;\n",
       "    }\n",
       "\n",
       "    .dataframe tbody tr th {\n",
       "        vertical-align: top;\n",
       "    }\n",
       "\n",
       "    .dataframe thead th {\n",
       "        text-align: right;\n",
       "    }\n",
       "</style>\n",
       "<table border=\"1\" class=\"dataframe\">\n",
       "  <thead>\n",
       "    <tr style=\"text-align: right;\">\n",
       "      <th></th>\n",
       "      <th>year</th>\n",
       "      <th>_ - rank</th>\n",
       "      <th>_ - city</th>\n",
       "      <th>_ - growth</th>\n",
       "      <th>_ - workers</th>\n",
       "      <th>_ - company</th>\n",
       "      <th>_ - state_s</th>\n",
       "      <th>_ - state_l</th>\n",
       "      <th>_ - revenue</th>\n",
       "      <th>_ - yrs_on_list</th>\n",
       "      <th>_ - industry</th>\n",
       "      <th>_ - metro</th>\n",
       "    </tr>\n",
       "  </thead>\n",
       "  <tbody>\n",
       "    <tr>\n",
       "      <th>0</th>\n",
       "      <td>2007</td>\n",
       "      <td>1</td>\n",
       "      <td>Fountain Valley</td>\n",
       "      <td>107.0161</td>\n",
       "      <td>3900</td>\n",
       "      <td>Kingston Technology</td>\n",
       "      <td>CA</td>\n",
       "      <td>CA</td>\n",
       "      <td>3688019000</td>\n",
       "      <td>5</td>\n",
       "      <td>Computer Hardware</td>\n",
       "      <td>Los Angeles</td>\n",
       "    </tr>\n",
       "    <tr>\n",
       "      <th>1</th>\n",
       "      <td>2007</td>\n",
       "      <td>2</td>\n",
       "      <td>Miami</td>\n",
       "      <td>197.8119</td>\n",
       "      <td>1684</td>\n",
       "      <td>BrightStar Global Wireless Solutions</td>\n",
       "      <td>FL</td>\n",
       "      <td>FL</td>\n",
       "      <td>3588138473</td>\n",
       "      <td>4</td>\n",
       "      <td>Business Products &amp; Services</td>\n",
       "      <td>Boston</td>\n",
       "    </tr>\n",
       "    <tr>\n",
       "      <th>2</th>\n",
       "      <td>2007</td>\n",
       "      <td>3</td>\n",
       "      <td>Beloit</td>\n",
       "      <td>66.8610</td>\n",
       "      <td>5800</td>\n",
       "      <td>ABC Supply</td>\n",
       "      <td>WI</td>\n",
       "      <td>WI</td>\n",
       "      <td>2991013063</td>\n",
       "      <td>6</td>\n",
       "      <td>Construction</td>\n",
       "      <td>Visalia-Porterville</td>\n",
       "    </tr>\n",
       "    <tr>\n",
       "      <th>3</th>\n",
       "      <td>2007</td>\n",
       "      <td>4</td>\n",
       "      <td>City of Industry</td>\n",
       "      <td>174.7642</td>\n",
       "      <td>1470</td>\n",
       "      <td>Newegg</td>\n",
       "      <td>CA</td>\n",
       "      <td>CA</td>\n",
       "      <td>1468145000</td>\n",
       "      <td>4</td>\n",
       "      <td>Computer Hardware</td>\n",
       "      <td>Evansville</td>\n",
       "    </tr>\n",
       "    <tr>\n",
       "      <th>4</th>\n",
       "      <td>2007</td>\n",
       "      <td>5</td>\n",
       "      <td>Baton Rouge</td>\n",
       "      <td>92.9807</td>\n",
       "      <td>11437</td>\n",
       "      <td>Turner Industries</td>\n",
       "      <td>LA</td>\n",
       "      <td>LA</td>\n",
       "      <td>1408759000</td>\n",
       "      <td>3</td>\n",
       "      <td>Construction</td>\n",
       "      <td>Atlanta</td>\n",
       "    </tr>\n",
       "  </tbody>\n",
       "</table>\n",
       "</div>"
      ],
      "text/plain": [
       "   year  _ - rank          _ - city  _ - growth  _ - workers  \\\n",
       "0  2007         1   Fountain Valley    107.0161         3900   \n",
       "1  2007         2             Miami    197.8119         1684   \n",
       "2  2007         3            Beloit     66.8610         5800   \n",
       "3  2007         4  City of Industry    174.7642         1470   \n",
       "4  2007         5       Baton Rouge     92.9807        11437   \n",
       "\n",
       "                            _ - company _ - state_s _ - state_l  _ - revenue  \\\n",
       "0                   Kingston Technology          CA          CA   3688019000   \n",
       "1  BrightStar Global Wireless Solutions          FL          FL   3588138473   \n",
       "2                            ABC Supply          WI          WI   2991013063   \n",
       "3                                Newegg          CA          CA   1468145000   \n",
       "4                     Turner Industries          LA          LA   1408759000   \n",
       "\n",
       "   _ - yrs_on_list                  _ - industry            _ - metro  \n",
       "0                5             Computer Hardware          Los Angeles  \n",
       "1                4  Business Products & Services               Boston  \n",
       "2                6                  Construction  Visalia-Porterville  \n",
       "3                4             Computer Hardware           Evansville  \n",
       "4                3                  Construction              Atlanta  "
      ]
     },
     "execution_count": 3,
     "metadata": {},
     "output_type": "execute_result"
    }
   ],
   "source": [
    "us10yr.head()"
   ]
  },
  {
   "cell_type": "markdown",
   "metadata": {},
   "source": [
    "#### Concacts the usdata csvs"
   ]
  },
  {
   "cell_type": "code",
   "execution_count": 4,
   "metadata": {},
   "outputs": [],
   "source": [
    "us10yrclean = us10yr.rename(columns={'_ - rank':'rank', '_ - city':'city','_ - growth':'growth', \n",
    "                      '_ - workers':'workers', '_ - workers':'workers',\n",
    "                      '_ - company': 'company', '_ - state_s':'state_s', '_ - state_l':'state_l',\n",
    "                      '_ - revenue':'revenue', '_ - yrs_on_list':'yrsonlist','_ - industry':'industry',\n",
    "                      '_ - metro':'metro'\n",
    "                      })"
   ]
  },
  {
   "cell_type": "code",
   "execution_count": 5,
   "metadata": {},
   "outputs": [],
   "source": [
    "del us10yrclean['state_l']\n",
    "del us10yrclean['metro']\n",
    "del us10yrclean['rank']"
   ]
  },
  {
   "cell_type": "code",
   "execution_count": 6,
   "metadata": {},
   "outputs": [
    {
     "data": {
      "text/html": [
       "<div>\n",
       "<style scoped>\n",
       "    .dataframe tbody tr th:only-of-type {\n",
       "        vertical-align: middle;\n",
       "    }\n",
       "\n",
       "    .dataframe tbody tr th {\n",
       "        vertical-align: top;\n",
       "    }\n",
       "\n",
       "    .dataframe thead th {\n",
       "        text-align: right;\n",
       "    }\n",
       "</style>\n",
       "<table border=\"1\" class=\"dataframe\">\n",
       "  <thead>\n",
       "    <tr style=\"text-align: right;\">\n",
       "      <th></th>\n",
       "      <th>year</th>\n",
       "      <th>city</th>\n",
       "      <th>growth</th>\n",
       "      <th>workers</th>\n",
       "      <th>company</th>\n",
       "      <th>state_s</th>\n",
       "      <th>revenue</th>\n",
       "      <th>yrsonlist</th>\n",
       "      <th>industry</th>\n",
       "    </tr>\n",
       "  </thead>\n",
       "  <tbody>\n",
       "    <tr>\n",
       "      <th>0</th>\n",
       "      <td>2007</td>\n",
       "      <td>Fountain Valley</td>\n",
       "      <td>107.0161</td>\n",
       "      <td>3900</td>\n",
       "      <td>Kingston Technology</td>\n",
       "      <td>CA</td>\n",
       "      <td>3688019000</td>\n",
       "      <td>5</td>\n",
       "      <td>Computer Hardware</td>\n",
       "    </tr>\n",
       "    <tr>\n",
       "      <th>1</th>\n",
       "      <td>2007</td>\n",
       "      <td>Miami</td>\n",
       "      <td>197.8119</td>\n",
       "      <td>1684</td>\n",
       "      <td>BrightStar Global Wireless Solutions</td>\n",
       "      <td>FL</td>\n",
       "      <td>3588138473</td>\n",
       "      <td>4</td>\n",
       "      <td>Business Products &amp; Services</td>\n",
       "    </tr>\n",
       "    <tr>\n",
       "      <th>2</th>\n",
       "      <td>2007</td>\n",
       "      <td>Beloit</td>\n",
       "      <td>66.8610</td>\n",
       "      <td>5800</td>\n",
       "      <td>ABC Supply</td>\n",
       "      <td>WI</td>\n",
       "      <td>2991013063</td>\n",
       "      <td>6</td>\n",
       "      <td>Construction</td>\n",
       "    </tr>\n",
       "    <tr>\n",
       "      <th>3</th>\n",
       "      <td>2007</td>\n",
       "      <td>City of Industry</td>\n",
       "      <td>174.7642</td>\n",
       "      <td>1470</td>\n",
       "      <td>Newegg</td>\n",
       "      <td>CA</td>\n",
       "      <td>1468145000</td>\n",
       "      <td>4</td>\n",
       "      <td>Computer Hardware</td>\n",
       "    </tr>\n",
       "    <tr>\n",
       "      <th>4</th>\n",
       "      <td>2007</td>\n",
       "      <td>Baton Rouge</td>\n",
       "      <td>92.9807</td>\n",
       "      <td>11437</td>\n",
       "      <td>Turner Industries</td>\n",
       "      <td>LA</td>\n",
       "      <td>1408759000</td>\n",
       "      <td>3</td>\n",
       "      <td>Construction</td>\n",
       "    </tr>\n",
       "  </tbody>\n",
       "</table>\n",
       "</div>"
      ],
      "text/plain": [
       "   year              city    growth  workers  \\\n",
       "0  2007   Fountain Valley  107.0161     3900   \n",
       "1  2007             Miami  197.8119     1684   \n",
       "2  2007            Beloit   66.8610     5800   \n",
       "3  2007  City of Industry  174.7642     1470   \n",
       "4  2007       Baton Rouge   92.9807    11437   \n",
       "\n",
       "                                company state_s     revenue  yrsonlist  \\\n",
       "0                   Kingston Technology      CA  3688019000          5   \n",
       "1  BrightStar Global Wireless Solutions      FL  3588138473          4   \n",
       "2                            ABC Supply      WI  2991013063          6   \n",
       "3                                Newegg      CA  1468145000          4   \n",
       "4                     Turner Industries      LA  1408759000          3   \n",
       "\n",
       "                       industry  \n",
       "0             Computer Hardware  \n",
       "1  Business Products & Services  \n",
       "2                  Construction  \n",
       "3             Computer Hardware  \n",
       "4                  Construction  "
      ]
     },
     "execution_count": 6,
     "metadata": {},
     "output_type": "execute_result"
    }
   ],
   "source": [
    "US_list= [us10yrclean, us2018]\n",
    "usTable=pd.concat(US_list, sort=False)\n",
    "usTable.head()"
   ]
  },
  {
   "cell_type": "markdown",
   "metadata": {},
   "source": [
    "#### Removes NaN values and replaces with \"Unknown\" in the industry column, and removed rows with a blank in revenue or \n",
    "#### growth"
   ]
  },
  {
   "cell_type": "code",
   "execution_count": 7,
   "metadata": {},
   "outputs": [],
   "source": [
    "usTable.loc[(usTable[\"revenue\"].isnull()),'industry'] = \"Unknown\""
   ]
  },
  {
   "cell_type": "code",
   "execution_count": 8,
   "metadata": {},
   "outputs": [],
   "source": [
    "usTable=usTable.drop(usTable.loc[(usTable[\"revenue\"].isnull()),:].index[:])\n",
    "usTable=usTable.drop(usTable.loc[(usTable[\"workers\"].isnull()),:].index[:])\n",
    "usTable=usTable.drop(usTable.loc[(usTable[\"growth\"].isnull()),:].index[:])\n",
    "usTable=usTable.drop(usTable.loc[(usTable[\"city\"].isnull()),:].index[:])\n",
    "usTable=usTable.drop(usTable.loc[(usTable[\"state_s\"].isnull()),:].index[:])\n",
    "usTable=usTable.drop(usTable.loc[(usTable[\"industry\"].isnull()),:].index[:])"
   ]
  },
  {
   "cell_type": "code",
   "execution_count": 9,
   "metadata": {},
   "outputs": [
    {
     "data": {
      "text/plain": [
       "year         55200\n",
       "city         55200\n",
       "growth       55200\n",
       "workers      55200\n",
       "company      55200\n",
       "state_s      55200\n",
       "revenue      55200\n",
       "yrsonlist    55200\n",
       "industry     55200\n",
       "dtype: int64"
      ]
     },
     "execution_count": 9,
     "metadata": {},
     "output_type": "execute_result"
    }
   ],
   "source": [
    "usTable.count()"
   ]
  },
  {
   "cell_type": "code",
   "execution_count": 10,
   "metadata": {},
   "outputs": [
    {
     "data": {
      "text/plain": [
       "year         False\n",
       "city         False\n",
       "growth       False\n",
       "workers      False\n",
       "company      False\n",
       "state_s      False\n",
       "revenue      False\n",
       "yrsonlist    False\n",
       "industry     False\n",
       "dtype: bool"
      ]
     },
     "execution_count": 10,
     "metadata": {},
     "output_type": "execute_result"
    }
   ],
   "source": [
    "usTable.isnull().any()"
   ]
  },
  {
   "cell_type": "code",
   "execution_count": 11,
   "metadata": {},
   "outputs": [],
   "source": [
    "usTable.to_csv(\"csv_files/usclean.csv\",index=False)"
   ]
  },
  {
   "cell_type": "code",
   "execution_count": null,
   "metadata": {},
   "outputs": [],
   "source": []
  },
  {
   "cell_type": "markdown",
   "metadata": {},
   "source": [
    "## Import Europe data seperate years and concact into one uniform European dataframe for analysis"
   ]
  },
  {
   "cell_type": "code",
   "execution_count": 12,
   "metadata": {},
   "outputs": [],
   "source": [
    "eu2016= pd.read_csv(\"csv_files/Inc5000eu_2016.csv\", encoding=\"latin1\")\n",
    "eu2017= pd.read_csv(\"csv_files/inc5000eu_2017.csv\", encoding=\"latin1\")\n",
    "eu2018= pd.read_csv(\"csv_files/inc500eu_2018.csv\", encoding=\"latin1\")"
   ]
  },
  {
   "cell_type": "code",
   "execution_count": 13,
   "metadata": {},
   "outputs": [
    {
     "data": {
      "text/plain": [
       "Index(['2016 Rank', 'Company', 'URL', 'Address', 'City', 'ZIP',\n",
       "       'Employee Count', 'Founded Year', 'Company Phone', 'Revenue',\n",
       "       'Inc.com URL', 'Growth', 'Revenue Raw', 'Country', 'Industry',\n",
       "       'Years on INC 5000'],\n",
       "      dtype='object')"
      ]
     },
     "execution_count": 13,
     "metadata": {},
     "output_type": "execute_result"
    }
   ],
   "source": [
    "eu2016.columns"
   ]
  },
  {
   "cell_type": "code",
   "execution_count": 14,
   "metadata": {},
   "outputs": [
    {
     "data": {
      "text/plain": [
       "Index(['url', 'rank', 'city', 'growth', 'company', 'revenue', 'country',\n",
       "       'industry', 'yrs_on_list'],\n",
       "      dtype='object')"
      ]
     },
     "execution_count": 14,
     "metadata": {},
     "output_type": "execute_result"
    }
   ],
   "source": [
    "eu2017.columns"
   ]
  },
  {
   "cell_type": "code",
   "execution_count": 15,
   "metadata": {},
   "outputs": [
    {
     "data": {
      "text/plain": [
       "Index([' url', ' rank', ' city', ' growth', ' company', ' country', ' revenue',\n",
       "       ' industry', ' yrs_on_list'],\n",
       "      dtype='object')"
      ]
     },
     "execution_count": 15,
     "metadata": {},
     "output_type": "execute_result"
    }
   ],
   "source": [
    "eu2018.columns"
   ]
  },
  {
   "cell_type": "code",
   "execution_count": 16,
   "metadata": {},
   "outputs": [],
   "source": [
    "eu2016[\"year\"]=\"\"\n",
    "eu2016.loc[:,'year']=2016\n",
    "eu2017[\"year\"]=\"\"\n",
    "eu2017.loc[:,'year']=2017\n",
    "eu2018[\"year\"]=\"\"\n",
    "eu2018.loc[:,'year']=2018"
   ]
  },
  {
   "cell_type": "markdown",
   "metadata": {},
   "source": [
    "#### Make sure all columns are the same throughout all of the dataframes"
   ]
  },
  {
   "cell_type": "code",
   "execution_count": 17,
   "metadata": {},
   "outputs": [],
   "source": [
    "eu2016 = eu2016.rename(columns={'URL':'url', '2016 Rank':'rank', 'City':'city', 'Growth': 'growth','Company' :'company', \n",
    "                                'Revenue Raw':'revenue','Country':'country','Industry':'industry', \n",
    "                                'Years on INC 5000':'yrs_on_list'})"
   ]
  },
  {
   "cell_type": "code",
   "execution_count": 18,
   "metadata": {},
   "outputs": [],
   "source": [
    "eu2018 = eu2018.rename(columns={' url':'url', ' rank':'rank', ' city':'city', ' growth': 'growth',' company' :'company', \n",
    "                                ' revenue':'revenue', ' country':'country',' industry':'industry', ' yrs_on_list':'yrs_on_list'})"
   ]
  },
  {
   "cell_type": "code",
   "execution_count": 19,
   "metadata": {},
   "outputs": [],
   "source": [
    "eu2016New=eu2016.loc[:,['url', 'rank', 'city', 'growth', 'company', 'country', 'revenue',\n",
    "       'industry', 'yrs_on_list', 'year']]"
   ]
  },
  {
   "cell_type": "code",
   "execution_count": 20,
   "metadata": {},
   "outputs": [
    {
     "data": {
      "text/plain": [
       "Index(['url', 'rank', 'city', 'growth', 'company', 'country', 'revenue',\n",
       "       'industry', 'yrs_on_list', 'year'],\n",
       "      dtype='object')"
      ]
     },
     "execution_count": 20,
     "metadata": {},
     "output_type": "execute_result"
    }
   ],
   "source": [
    "eu2016New.columns"
   ]
  },
  {
   "cell_type": "code",
   "execution_count": 21,
   "metadata": {},
   "outputs": [],
   "source": [
    "#create list that holds every dataframe\n",
    "list_europe= [eu2016New,eu2017, eu2018]"
   ]
  },
  {
   "cell_type": "code",
   "execution_count": 22,
   "metadata": {},
   "outputs": [
    {
     "data": {
      "text/plain": [
       "Index(['url', 'rank', 'city', 'growth', 'company', 'country', 'revenue',\n",
       "       'industry', 'yrs_on_list', 'year'],\n",
       "      dtype='object')"
      ]
     },
     "execution_count": 22,
     "metadata": {},
     "output_type": "execute_result"
    }
   ],
   "source": [
    "#create new DataFrame that concates all the seperate tables\n",
    "europeTable=pd.concat(list_europe, sort=False)\n",
    "europeTable.columns"
   ]
  },
  {
   "cell_type": "code",
   "execution_count": 23,
   "metadata": {},
   "outputs": [],
   "source": [
    "#index value goes back to 0 when the year changes\n",
    "#reset the index so the values do not reset to 0 after every new year\n",
    "europeTable= europeTable.reset_index()"
   ]
  },
  {
   "cell_type": "code",
   "execution_count": 24,
   "metadata": {},
   "outputs": [],
   "source": [
    "#drop the original index value\n",
    "europeTable=europeTable.drop(\"index\", axis=1)\n",
    "\n",
    "#drop other unnecessary indices\n",
    "europeTable=europeTable.drop(\"url\", axis=1)\n",
    "europeTable=europeTable.drop(\"rank\", axis=1)"
   ]
  },
  {
   "cell_type": "code",
   "execution_count": 25,
   "metadata": {},
   "outputs": [
    {
     "data": {
      "text/html": [
       "<div>\n",
       "<style scoped>\n",
       "    .dataframe tbody tr th:only-of-type {\n",
       "        vertical-align: middle;\n",
       "    }\n",
       "\n",
       "    .dataframe tbody tr th {\n",
       "        vertical-align: top;\n",
       "    }\n",
       "\n",
       "    .dataframe thead th {\n",
       "        text-align: right;\n",
       "    }\n",
       "</style>\n",
       "<table border=\"1\" class=\"dataframe\">\n",
       "  <thead>\n",
       "    <tr style=\"text-align: right;\">\n",
       "      <th></th>\n",
       "      <th>city</th>\n",
       "      <th>growth</th>\n",
       "      <th>company</th>\n",
       "      <th>country</th>\n",
       "      <th>revenue</th>\n",
       "      <th>industry</th>\n",
       "      <th>yrs_on_list</th>\n",
       "      <th>year</th>\n",
       "    </tr>\n",
       "  </thead>\n",
       "  <tbody>\n",
       "    <tr>\n",
       "      <th>4990</th>\n",
       "      <td>Parnu</td>\n",
       "      <td>94.4899</td>\n",
       "      <td>Import Auto OU</td>\n",
       "      <td>Estonia</td>\n",
       "      <td>4855748.0</td>\n",
       "      <td>Retail</td>\n",
       "      <td>1</td>\n",
       "      <td>2016</td>\n",
       "    </tr>\n",
       "    <tr>\n",
       "      <th>4991</th>\n",
       "      <td>Istanbul</td>\n",
       "      <td>94.3728</td>\n",
       "      <td>ODC Business Solutions</td>\n",
       "      <td>Turkey</td>\n",
       "      <td>3720418.0</td>\n",
       "      <td>Business Products &amp; Services</td>\n",
       "      <td>1</td>\n",
       "      <td>2016</td>\n",
       "    </tr>\n",
       "    <tr>\n",
       "      <th>4992</th>\n",
       "      <td>Deisslingen</td>\n",
       "      <td>93.3333</td>\n",
       "      <td>Camping-Freizeit Dorn OHG</td>\n",
       "      <td>Germany</td>\n",
       "      <td>5800000.0</td>\n",
       "      <td>Travel &amp; Hospitality</td>\n",
       "      <td>1</td>\n",
       "      <td>2016</td>\n",
       "    </tr>\n",
       "    <tr>\n",
       "      <th>4993</th>\n",
       "      <td>paris</td>\n",
       "      <td>92.2665</td>\n",
       "      <td>Apsia</td>\n",
       "      <td>France</td>\n",
       "      <td>5479404.0</td>\n",
       "      <td>IT Services</td>\n",
       "      <td>1</td>\n",
       "      <td>2016</td>\n",
       "    </tr>\n",
       "    <tr>\n",
       "      <th>4994</th>\n",
       "      <td>Stockholm</td>\n",
       "      <td>4694.9849</td>\n",
       "      <td>Daniel Wellington AB</td>\n",
       "      <td>Sweden</td>\n",
       "      <td>155773187.0</td>\n",
       "      <td>Retail</td>\n",
       "      <td>1</td>\n",
       "      <td>2017</td>\n",
       "    </tr>\n",
       "    <tr>\n",
       "      <th>4995</th>\n",
       "      <td>Tourlaville</td>\n",
       "      <td>3956.7425</td>\n",
       "      <td>LE Petit Vapoteur</td>\n",
       "      <td>France</td>\n",
       "      <td>14535633.0</td>\n",
       "      <td>Retail</td>\n",
       "      <td>1</td>\n",
       "      <td>2017</td>\n",
       "    </tr>\n",
       "    <tr>\n",
       "      <th>4996</th>\n",
       "      <td>Szekesfehervar</td>\n",
       "      <td>3954.0236</td>\n",
       "      <td>Martin Metal Product</td>\n",
       "      <td>Hungary</td>\n",
       "      <td>16473241.0</td>\n",
       "      <td>Construction</td>\n",
       "      <td>1</td>\n",
       "      <td>2017</td>\n",
       "    </tr>\n",
       "    <tr>\n",
       "      <th>4997</th>\n",
       "      <td>Helsinki</td>\n",
       "      <td>3864.1671</td>\n",
       "      <td>Odeal Oy</td>\n",
       "      <td>Finland</td>\n",
       "      <td>16736000.0</td>\n",
       "      <td>Business Products &amp; Services</td>\n",
       "      <td>1</td>\n",
       "      <td>2017</td>\n",
       "    </tr>\n",
       "    <tr>\n",
       "      <th>4998</th>\n",
       "      <td>London</td>\n",
       "      <td>3469.0884</td>\n",
       "      <td>Balyasny Europe Asset Management LLP</td>\n",
       "      <td>United Kingdom</td>\n",
       "      <td>39409838.0</td>\n",
       "      <td>Financial Services</td>\n",
       "      <td>1</td>\n",
       "      <td>2017</td>\n",
       "    </tr>\n",
       "    <tr>\n",
       "      <th>4999</th>\n",
       "      <td>Stockholm</td>\n",
       "      <td>3456.6324</td>\n",
       "      <td>Cabonline Technologies AB</td>\n",
       "      <td>Sweden</td>\n",
       "      <td>9005500.0</td>\n",
       "      <td>Business Products &amp; Services</td>\n",
       "      <td>1</td>\n",
       "      <td>2017</td>\n",
       "    </tr>\n",
       "    <tr>\n",
       "      <th>5000</th>\n",
       "      <td>Corsham</td>\n",
       "      <td>3439.7579</td>\n",
       "      <td>Ukcloud Ltd</td>\n",
       "      <td>United Kingdom</td>\n",
       "      <td>40548528.0</td>\n",
       "      <td>IT Services</td>\n",
       "      <td>1</td>\n",
       "      <td>2017</td>\n",
       "    </tr>\n",
       "    <tr>\n",
       "      <th>5001</th>\n",
       "      <td>Stockholm</td>\n",
       "      <td>3229.8652</td>\n",
       "      <td>Star Stable Entertainment AB</td>\n",
       "      <td>Sweden</td>\n",
       "      <td>9700097.0</td>\n",
       "      <td>Software</td>\n",
       "      <td>1</td>\n",
       "      <td>2017</td>\n",
       "    </tr>\n",
       "    <tr>\n",
       "      <th>5002</th>\n",
       "      <td>Stockholm</td>\n",
       "      <td>3186.2977</td>\n",
       "      <td>Feo Media AB</td>\n",
       "      <td>Sweden</td>\n",
       "      <td>13747109.0</td>\n",
       "      <td>Software</td>\n",
       "      <td>1</td>\n",
       "      <td>2017</td>\n",
       "    </tr>\n",
       "    <tr>\n",
       "      <th>5003</th>\n",
       "      <td>Stockholm</td>\n",
       "      <td>3157.4633</td>\n",
       "      <td>Furniture Box AB</td>\n",
       "      <td>Sweden</td>\n",
       "      <td>36104485.0</td>\n",
       "      <td>Retail</td>\n",
       "      <td>1</td>\n",
       "      <td>2017</td>\n",
       "    </tr>\n",
       "    <tr>\n",
       "      <th>5004</th>\n",
       "      <td>Modena</td>\n",
       "      <td>3143.6532</td>\n",
       "      <td>Ecobloks - S.R.L.</td>\n",
       "      <td>Italy</td>\n",
       "      <td>12179042.0</td>\n",
       "      <td>Environmental Services</td>\n",
       "      <td>1</td>\n",
       "      <td>2017</td>\n",
       "    </tr>\n",
       "    <tr>\n",
       "      <th>5005</th>\n",
       "      <td>London</td>\n",
       "      <td>3109.3841</td>\n",
       "      <td>Smarkets</td>\n",
       "      <td>United Kingdom</td>\n",
       "      <td>14435200.0</td>\n",
       "      <td>Financial Services</td>\n",
       "      <td>1</td>\n",
       "      <td>2017</td>\n",
       "    </tr>\n",
       "    <tr>\n",
       "      <th>5006</th>\n",
       "      <td>Edinburgh</td>\n",
       "      <td>3073.3348</td>\n",
       "      <td>Kiltearn Partners LLP</td>\n",
       "      <td>United Kingdom</td>\n",
       "      <td>45813815.0</td>\n",
       "      <td>Business Products &amp; Services</td>\n",
       "      <td>1</td>\n",
       "      <td>2017</td>\n",
       "    </tr>\n",
       "    <tr>\n",
       "      <th>5007</th>\n",
       "      <td>Saldus nov.</td>\n",
       "      <td>3064.5036</td>\n",
       "      <td>Jets Vacuum SIA</td>\n",
       "      <td>Latvia</td>\n",
       "      <td>6728779.0</td>\n",
       "      <td>Construction</td>\n",
       "      <td>1</td>\n",
       "      <td>2017</td>\n",
       "    </tr>\n",
       "    <tr>\n",
       "      <th>5008</th>\n",
       "      <td>London</td>\n",
       "      <td>3007.5517</td>\n",
       "      <td>Griffin Markets Group Limited</td>\n",
       "      <td>United Kingdom</td>\n",
       "      <td>10008585.0</td>\n",
       "      <td>Financial Services</td>\n",
       "      <td>1</td>\n",
       "      <td>2017</td>\n",
       "    </tr>\n",
       "    <tr>\n",
       "      <th>5009</th>\n",
       "      <td>Helsinki</td>\n",
       "      <td>2980.2610</td>\n",
       "      <td>AdLibris Finland Oy</td>\n",
       "      <td>Finland</td>\n",
       "      <td>18882000.0</td>\n",
       "      <td>Retail</td>\n",
       "      <td>1</td>\n",
       "      <td>2017</td>\n",
       "    </tr>\n",
       "  </tbody>\n",
       "</table>\n",
       "</div>"
      ],
      "text/plain": [
       "                city     growth                               company  \\\n",
       "4990           Parnu    94.4899                        Import Auto OU   \n",
       "4991        Istanbul    94.3728                ODC Business Solutions   \n",
       "4992     Deisslingen    93.3333             Camping-Freizeit Dorn OHG   \n",
       "4993           paris    92.2665                                 Apsia   \n",
       "4994       Stockholm  4694.9849                  Daniel Wellington AB   \n",
       "4995     Tourlaville  3956.7425                     LE Petit Vapoteur   \n",
       "4996  Szekesfehervar  3954.0236                  Martin Metal Product   \n",
       "4997        Helsinki  3864.1671                              Odeal Oy   \n",
       "4998          London  3469.0884  Balyasny Europe Asset Management LLP   \n",
       "4999       Stockholm  3456.6324             Cabonline Technologies AB   \n",
       "5000         Corsham  3439.7579                           Ukcloud Ltd   \n",
       "5001       Stockholm  3229.8652          Star Stable Entertainment AB   \n",
       "5002       Stockholm  3186.2977                          Feo Media AB   \n",
       "5003       Stockholm  3157.4633                      Furniture Box AB   \n",
       "5004          Modena  3143.6532                     Ecobloks - S.R.L.   \n",
       "5005          London  3109.3841                              Smarkets   \n",
       "5006       Edinburgh  3073.3348                 Kiltearn Partners LLP   \n",
       "5007     Saldus nov.  3064.5036                       Jets Vacuum SIA   \n",
       "5008          London  3007.5517         Griffin Markets Group Limited   \n",
       "5009        Helsinki  2980.2610                   AdLibris Finland Oy   \n",
       "\n",
       "             country      revenue                      industry  yrs_on_list  \\\n",
       "4990         Estonia    4855748.0                        Retail            1   \n",
       "4991          Turkey    3720418.0  Business Products & Services            1   \n",
       "4992         Germany    5800000.0          Travel & Hospitality            1   \n",
       "4993          France    5479404.0                   IT Services            1   \n",
       "4994          Sweden  155773187.0                        Retail            1   \n",
       "4995          France   14535633.0                        Retail            1   \n",
       "4996         Hungary   16473241.0                  Construction            1   \n",
       "4997         Finland   16736000.0  Business Products & Services            1   \n",
       "4998  United Kingdom   39409838.0            Financial Services            1   \n",
       "4999          Sweden    9005500.0  Business Products & Services            1   \n",
       "5000  United Kingdom   40548528.0                   IT Services            1   \n",
       "5001          Sweden    9700097.0                      Software            1   \n",
       "5002          Sweden   13747109.0                      Software            1   \n",
       "5003          Sweden   36104485.0                        Retail            1   \n",
       "5004           Italy   12179042.0        Environmental Services            1   \n",
       "5005  United Kingdom   14435200.0            Financial Services            1   \n",
       "5006  United Kingdom   45813815.0  Business Products & Services            1   \n",
       "5007          Latvia    6728779.0                  Construction            1   \n",
       "5008  United Kingdom   10008585.0            Financial Services            1   \n",
       "5009         Finland   18882000.0                        Retail            1   \n",
       "\n",
       "      year  \n",
       "4990  2016  \n",
       "4991  2016  \n",
       "4992  2016  \n",
       "4993  2016  \n",
       "4994  2017  \n",
       "4995  2017  \n",
       "4996  2017  \n",
       "4997  2017  \n",
       "4998  2017  \n",
       "4999  2017  \n",
       "5000  2017  \n",
       "5001  2017  \n",
       "5002  2017  \n",
       "5003  2017  \n",
       "5004  2017  \n",
       "5005  2017  \n",
       "5006  2017  \n",
       "5007  2017  \n",
       "5008  2017  \n",
       "5009  2017  "
      ]
     },
     "execution_count": 25,
     "metadata": {},
     "output_type": "execute_result"
    }
   ],
   "source": [
    "#Check and see what the new dataframe looks like\n",
    "europeTable.iloc[4990:5010,:]"
   ]
  },
  {
   "cell_type": "code",
   "execution_count": 26,
   "metadata": {},
   "outputs": [
    {
     "data": {
      "text/plain": [
       "city            True\n",
       "growth          True\n",
       "company         True\n",
       "country         True\n",
       "revenue         True\n",
       "industry       False\n",
       "yrs_on_list    False\n",
       "year           False\n",
       "dtype: bool"
      ]
     },
     "execution_count": 26,
     "metadata": {},
     "output_type": "execute_result"
    }
   ],
   "source": [
    "europeTable.isnull().any()"
   ]
  },
  {
   "cell_type": "code",
   "execution_count": 27,
   "metadata": {},
   "outputs": [],
   "source": [
    "#delete all rows that have no value for the company,country, and growth column\n",
    "europeTable=europeTable.drop(europeTable.loc[(europeTable[\"company\"].isnull()),:].index[:])\n",
    "europeTable=europeTable.drop(europeTable.loc[(europeTable[\"country\"].isnull()),:].index[:])\n",
    "europeTable=europeTable.drop(europeTable.loc[(europeTable[\"growth\"].isnull()),:].index[:])"
   ]
  },
  {
   "cell_type": "code",
   "execution_count": 28,
   "metadata": {},
   "outputs": [
    {
     "data": {
      "text/plain": [
       "city           False\n",
       "growth         False\n",
       "company        False\n",
       "country        False\n",
       "revenue        False\n",
       "industry       False\n",
       "yrs_on_list    False\n",
       "year           False\n",
       "dtype: bool"
      ]
     },
     "execution_count": 28,
     "metadata": {},
     "output_type": "execute_result"
    }
   ],
   "source": [
    "#confirm there are no null values in table\n",
    "europeTable.isnull().any()"
   ]
  },
  {
   "cell_type": "code",
   "execution_count": 29,
   "metadata": {},
   "outputs": [],
   "source": [
    "europeTable.to_csv(\"csv_files/euclean.csv\",index=False)"
   ]
  },
  {
   "cell_type": "markdown",
   "metadata": {},
   "source": [
    "# Analysis"
   ]
  },
  {
   "cell_type": "markdown",
   "metadata": {},
   "source": [
    "### Scatterplots Revenue vs Growth per Industry"
   ]
  },
  {
   "cell_type": "code",
   "execution_count": 44,
   "metadata": {},
   "outputs": [
    {
     "data": {
      "text/plain": [
       "<seaborn.axisgrid.FacetGrid at 0x7fa41644dda0>"
      ]
     },
     "execution_count": 44,
     "metadata": {},
     "output_type": "execute_result"
    },
    {
     "data": {
      "image/png": "[encoded data removed]",
      "text/plain": [
       "<Figure size 360x360 with 1 Axes>"
      ]
     },
     "metadata": {},
     "output_type": "display_data"
    }
   ],
   "source": [
    "# Provide a dictionary to the palette argument\n",
    "sns.lmplot( x=\"revenue\", y=\"growth\", data=usTable, fit_reg=False, \n",
    "           legend=False, palette=dict(setosa=\"#9b59b6\", virginica=\"#3498db\", versicolor=\"#95a5a6\"))"
   ]
  },
  {
   "cell_type": "code",
   "execution_count": 31,
   "metadata": {},
   "outputs": [
    {
     "data": {
      "text/plain": [
       "<seaborn.axisgrid.FacetGrid at 0x7fa417f974e0>"
      ]
     },
     "execution_count": 31,
     "metadata": {},
     "output_type": "execute_result"
    },
    {
     "data": {
      "image/png": "[encoded data removed]",
      "text/plain": [
       "<Figure size 360x360 with 1 Axes>"
      ]
     },
     "metadata": {},
     "output_type": "display_data"
    }
   ],
   "source": []
  },
  {
   "cell_type": "markdown",
   "metadata": {},
   "source": [
    "### Stripplots Industry vs Revenue"
   ]
  },
  {
   "cell_type": "code",
   "execution_count": 32,
   "metadata": {},
   "outputs": [
    {
     "data": {
      "text/plain": [
       "(array([ 0,  1,  2,  3,  4,  5,  6,  7,  8,  9, 10, 11, 12, 13, 14, 15, 16,\n",
       "        17, 18, 19, 20, 21, 22, 23, 24]),\n",
       " <a list of 25 Text xticklabel objects>)"
      ]
     },
     "execution_count": 32,
     "metadata": {},
     "output_type": "execute_result"
    },
    {
     "data": {
      "image/png": "[encoded data removed]",
      "text/plain": [
       "<Figure size 432x288 with 1 Axes>"
      ]
     },
     "metadata": {},
     "output_type": "display_data"
    }
   ],
   "source": [
    "sns.stripplot(x=\"industry\", y=\"revenue\", jitter=True, data=usTable)\n",
    "plt.xticks(rotation=85)"
   ]
  },
  {
   "cell_type": "code",
   "execution_count": 33,
   "metadata": {},
   "outputs": [
    {
     "data": {
      "text/plain": [
       "(array([ 0,  1,  2,  3,  4,  5,  6,  7,  8,  9, 10, 11, 12, 13, 14, 15, 16,\n",
       "        17, 18, 19, 20, 21, 22, 23, 24, 25]),\n",
       " <a list of 26 Text xticklabel objects>)"
      ]
     },
     "execution_count": 33,
     "metadata": {},
     "output_type": "execute_result"
    },
    {
     "data": {
      "image/png": "[encoded data removed]",
      "text/plain": [
       "<Figure size 432x288 with 1 Axes>"
      ]
     },
     "metadata": {},
     "output_type": "display_data"
    }
   ],
   "source": [
    "sns.stripplot(x=\"industry\", y=\"revenue\", jitter=True, data=europeTable)\n",
    "plt.xticks(rotation=85)"
   ]
  },
  {
   "cell_type": "markdown",
   "metadata": {},
   "source": [
    "### Lax Visualizations"
   ]
  },
  {
   "cell_type": "code",
   "execution_count": 47,
   "metadata": {},
   "outputs": [
    {
     "data": {
      "text/plain": [
       "{'IT Services': 7041,\n",
       " 'Business Products & Services': 5515,\n",
       " 'Advertising & Marketing': 4891,\n",
       " 'Health': 4131,\n",
       " 'Software': 3644,\n",
       " 'Government Services': 2765,\n",
       " 'Construction': 2749,\n",
       " 'Financial Services': 2629,\n",
       " 'Manufacturing': 2608,\n",
       " 'Consumer Products & Services': 2480,\n",
       " 'Retail': 2052,\n",
       " 'Human Resources': 2037,\n",
       " 'Logistics & Transportation': 1572,\n",
       " 'Food & Beverage': 1554,\n",
       " 'Telecommunications': 1476,\n",
       " 'Real Estate': 1275,\n",
       " 'Energy': 1107,\n",
       " 'Engineering': 927,\n",
       " 'Education': 858,\n",
       " 'Security': 783,\n",
       " 'Insurance': 749,\n",
       " 'Media': 681,\n",
       " 'Environmental Services': 652,\n",
       " 'Travel & Hospitality': 580,\n",
       " 'Computer Hardware': 444}"
      ]
     },
     "execution_count": 47,
     "metadata": {},
     "output_type": "execute_result"
    }
   ],
   "source": [
    "dfnew = usTable[\"industry\"].value_counts().to_dict()\n",
    "dfnew"
   ]
  },
  {
   "cell_type": "code",
   "execution_count": null,
   "metadata": {},
   "outputs": [],
   "source": []
  },
  {
   "cell_type": "code",
   "execution_count": 45,
   "metadata": {},
   "outputs": [
    {
     "ename": "NameError",
     "evalue": "name 'usdataclean' is not defined",
     "output_type": "error",
     "traceback": [
      "\u001b[0;31m---------------------------------------------------------------------------\u001b[0m",
      "\u001b[0;31mNameError\u001b[0m                                 Traceback (most recent call last)",
      "\u001b[0;32m<ipython-input-45-d4b96b7b2efb>\u001b[0m in \u001b[0;36m<module>\u001b[0;34m()\u001b[0m\n\u001b[0;32m----> 1\u001b[0;31m \u001b[0mindustry_rank1\u001b[0m \u001b[0;34m=\u001b[0m \u001b[0musdataclean\u001b[0m\u001b[0;34m[\u001b[0m\u001b[0musdataclean\u001b[0m\u001b[0;34m[\u001b[0m\u001b[0;34m'rank'\u001b[0m\u001b[0;34m]\u001b[0m\u001b[0;34m==\u001b[0m\u001b[0;36m1\u001b[0m\u001b[0;34m]\u001b[0m\u001b[0;34m[\u001b[0m\u001b[0;34m'industry'\u001b[0m\u001b[0;34m]\u001b[0m\u001b[0;34m.\u001b[0m\u001b[0mvalue_counts\u001b[0m\u001b[0;34m(\u001b[0m\u001b[0;34m)\u001b[0m\u001b[0;34m\u001b[0m\u001b[0m\n\u001b[0m\u001b[1;32m      2\u001b[0m \u001b[0mindustry_rank2\u001b[0m \u001b[0;34m=\u001b[0m \u001b[0musdataclean\u001b[0m\u001b[0;34m[\u001b[0m\u001b[0musdataclean\u001b[0m\u001b[0;34m[\u001b[0m\u001b[0;34m'rank'\u001b[0m\u001b[0;34m]\u001b[0m\u001b[0;34m==\u001b[0m\u001b[0;36m2\u001b[0m\u001b[0;34m]\u001b[0m\u001b[0;34m[\u001b[0m\u001b[0;34m'industry'\u001b[0m\u001b[0;34m]\u001b[0m\u001b[0;34m.\u001b[0m\u001b[0mvalue_counts\u001b[0m\u001b[0;34m(\u001b[0m\u001b[0;34m)\u001b[0m\u001b[0;34m\u001b[0m\u001b[0m\n\u001b[1;32m      3\u001b[0m \u001b[0;31m#making seperate dataframe with required values for plotting\u001b[0m\u001b[0;34m\u001b[0m\u001b[0;34m\u001b[0m\u001b[0m\n\u001b[1;32m      4\u001b[0m \u001b[0mdf_New\u001b[0m \u001b[0;34m=\u001b[0m \u001b[0mpd\u001b[0m\u001b[0;34m.\u001b[0m\u001b[0mDataFrame\u001b[0m\u001b[0;34m(\u001b[0m\u001b[0;34m[\u001b[0m\u001b[0mindustry_rank1\u001b[0m\u001b[0;34m,\u001b[0m\u001b[0mindustry_rank2\u001b[0m\u001b[0;34m]\u001b[0m\u001b[0;34m)\u001b[0m\u001b[0;34m\u001b[0m\u001b[0m\n\u001b[1;32m      5\u001b[0m \u001b[0mdf_New\u001b[0m\u001b[0;34m.\u001b[0m\u001b[0mindex\u001b[0m \u001b[0;34m=\u001b[0m \u001b[0;34m[\u001b[0m\u001b[0;34m'rank1'\u001b[0m\u001b[0;34m,\u001b[0m\u001b[0;34m'rank2'\u001b[0m\u001b[0;34m]\u001b[0m\u001b[0;34m\u001b[0m\u001b[0m\n",
      "\u001b[0;31mNameError\u001b[0m: name 'usdataclean' is not defined"
     ]
    }
   ],
   "source": [
    "industry_rank1 = usdataclean[usdataclean['rank']==1]['industry'].value_counts()\n",
    "industry_rank2 = usdataclean[usdataclean['rank']==2]['industry'].value_counts()\n",
    "#making seperate dataframe with required values for plotting\n",
    "df_New = pd.DataFrame([industry_rank1,industry_rank2])\n",
    "df_New.index = ['rank1','rank2']\n",
    "figure=df_New.plot(kind='bar',figsize=(15,8))\n",
    "figure.legend(loc='upper center')"
   ]
  },
  {
   "cell_type": "code",
   "execution_count": null,
   "metadata": {},
   "outputs": [],
   "source": [
    "sns.barplot(x=\"industry\", y=\"revenue\", data=usTable)\n",
    "plt.xticks(rotation=85)"
   ]
  },
  {
   "cell_type": "code",
   "execution_count": null,
   "metadata": {},
   "outputs": [],
   "source": [
    "sns.barplot(x=\"industry\", y=\"revenue\", data=europeTable)\n",
    "plt.xticks(rotation=85)"
   ]
  },
  {
   "cell_type": "code",
   "execution_count": null,
   "metadata": {},
   "outputs": [],
   "source": []
  }
 ],
 "metadata": {
  "kernelspec": {
   "display_name": "Python 3",
   "language": "python",
   "name": "python3"
  },
  "language_info": {
   "codemirror_mode": {
    "name": "ipython",
    "version": 3
   },
   "file_extension": ".py",
   "mimetype": "text/x-python",
   "name": "python",
   "nbconvert_exporter": "python",
   "pygments_lexer": "ipython3",
   "version": "3.6.5"
  }
 },
 "nbformat": 4,
 "nbformat_minor": 2
}
