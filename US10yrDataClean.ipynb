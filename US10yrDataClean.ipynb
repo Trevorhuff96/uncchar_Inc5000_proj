{
 "cells": [
  {
   "cell_type": "markdown",
   "metadata": {},
   "source": [
    "## Initial imports"
   ]
  },
  {
   "cell_type": "code",
   "execution_count": 21,
   "metadata": {},
   "outputs": [],
   "source": [
    "import pandas as pd\n",
    "import matplotlib as plt\n",
    "import numpy as np"
   ]
  },
  {
   "cell_type": "markdown",
   "metadata": {},
   "source": [
    "### Encodes US 10yr csv, shows .head(), and runs count "
   ]
  },
  {
   "cell_type": "code",
   "execution_count": 34,
   "metadata": {},
   "outputs": [],
   "source": [
    "us10yr = pd.read_csv(\"inc5000us_10years.csv\", encoding=\"latin1\")"
   ]
  },
  {
   "cell_type": "code",
   "execution_count": 35,
   "metadata": {},
   "outputs": [
    {
     "data": {
      "text/html": [
       "<div>\n",
       "<style scoped>\n",
       "    .dataframe tbody tr th:only-of-type {\n",
       "        vertical-align: middle;\n",
       "    }\n",
       "\n",
       "    .dataframe tbody tr th {\n",
       "        vertical-align: top;\n",
       "    }\n",
       "\n",
       "    .dataframe thead th {\n",
       "        text-align: right;\n",
       "    }\n",
       "</style>\n",
       "<table border=\"1\" class=\"dataframe\">\n",
       "  <thead>\n",
       "    <tr style=\"text-align: right;\">\n",
       "      <th></th>\n",
       "      <th>year</th>\n",
       "      <th>_ - rank</th>\n",
       "      <th>_ - city</th>\n",
       "      <th>_ - growth</th>\n",
       "      <th>_ - workers</th>\n",
       "      <th>_ - company</th>\n",
       "      <th>_ - state_s</th>\n",
       "      <th>_ - state_l</th>\n",
       "      <th>_ - revenue</th>\n",
       "      <th>_ - yrs_on_list</th>\n",
       "      <th>_ - industry</th>\n",
       "      <th>_ - metro</th>\n",
       "    </tr>\n",
       "  </thead>\n",
       "  <tbody>\n",
       "    <tr>\n",
       "      <th>0</th>\n",
       "      <td>2016</td>\n",
       "      <td>1</td>\n",
       "      <td>Los Angeles</td>\n",
       "      <td>66788.5962</td>\n",
       "      <td>218.0</td>\n",
       "      <td>Loot Crate</td>\n",
       "      <td>CA</td>\n",
       "      <td>California</td>\n",
       "      <td>116247698.0</td>\n",
       "      <td>1</td>\n",
       "      <td>Consumer Products &amp; Services</td>\n",
       "      <td>Los Angeles</td>\n",
       "    </tr>\n",
       "    <tr>\n",
       "      <th>1</th>\n",
       "      <td>2016</td>\n",
       "      <td>2</td>\n",
       "      <td>Somerville</td>\n",
       "      <td>36555.2472</td>\n",
       "      <td>100.0</td>\n",
       "      <td>Paint Nite</td>\n",
       "      <td>MA</td>\n",
       "      <td>Massachusetts</td>\n",
       "      <td>55018793.0</td>\n",
       "      <td>2</td>\n",
       "      <td>Consumer Products &amp; Services</td>\n",
       "      <td>Boston</td>\n",
       "    </tr>\n",
       "    <tr>\n",
       "      <th>2</th>\n",
       "      <td>2016</td>\n",
       "      <td>3</td>\n",
       "      <td>Visalia</td>\n",
       "      <td>31633.5448</td>\n",
       "      <td>47.0</td>\n",
       "      <td>CalCom Solar</td>\n",
       "      <td>CA</td>\n",
       "      <td>California</td>\n",
       "      <td>33507450.0</td>\n",
       "      <td>2</td>\n",
       "      <td>Energy</td>\n",
       "      <td>Visalia-Porterville, CA</td>\n",
       "    </tr>\n",
       "    <tr>\n",
       "      <th>3</th>\n",
       "      <td>2016</td>\n",
       "      <td>4</td>\n",
       "      <td>Evansville</td>\n",
       "      <td>23619.7198</td>\n",
       "      <td>82.0</td>\n",
       "      <td>eLuxurySupply.com</td>\n",
       "      <td>IN</td>\n",
       "      <td>Indiana</td>\n",
       "      <td>30695215.0</td>\n",
       "      <td>2</td>\n",
       "      <td>Retail</td>\n",
       "      <td>Evansville, IN-KY</td>\n",
       "    </tr>\n",
       "    <tr>\n",
       "      <th>4</th>\n",
       "      <td>2016</td>\n",
       "      <td>5</td>\n",
       "      <td>Atlanta</td>\n",
       "      <td>23486.8894</td>\n",
       "      <td>48.0</td>\n",
       "      <td>Company.com</td>\n",
       "      <td>GA</td>\n",
       "      <td>Georgia</td>\n",
       "      <td>33370967.0</td>\n",
       "      <td>2</td>\n",
       "      <td>Business Products &amp; Services</td>\n",
       "      <td>Atlanta</td>\n",
       "    </tr>\n",
       "  </tbody>\n",
       "</table>\n",
       "</div>"
      ],
      "text/plain": [
       "   year  _ - rank     _ - city  _ - growth  _ - workers        _ - company  \\\n",
       "0  2016         1  Los Angeles  66788.5962        218.0         Loot Crate   \n",
       "1  2016         2   Somerville  36555.2472        100.0         Paint Nite   \n",
       "2  2016         3      Visalia  31633.5448         47.0       CalCom Solar   \n",
       "3  2016         4   Evansville  23619.7198         82.0  eLuxurySupply.com   \n",
       "4  2016         5      Atlanta  23486.8894         48.0        Company.com   \n",
       "\n",
       "  _ - state_s    _ - state_l  _ - revenue  _ - yrs_on_list  \\\n",
       "0          CA     California  116247698.0                1   \n",
       "1          MA  Massachusetts   55018793.0                2   \n",
       "2          CA     California   33507450.0                2   \n",
       "3          IN        Indiana   30695215.0                2   \n",
       "4          GA        Georgia   33370967.0                2   \n",
       "\n",
       "                   _ - industry                _ - metro  \n",
       "0  Consumer Products & Services              Los Angeles  \n",
       "1  Consumer Products & Services                   Boston  \n",
       "2                        Energy  Visalia-Porterville, CA  \n",
       "3                        Retail        Evansville, IN-KY  \n",
       "4  Business Products & Services                  Atlanta  "
      ]
     },
     "execution_count": 35,
     "metadata": {},
     "output_type": "execute_result"
    }
   ],
   "source": [
    "us10yr.head()"
   ]
  },
  {
   "cell_type": "code",
   "execution_count": 4,
   "metadata": {},
   "outputs": [
    {
     "data": {
      "text/plain": [
       "year               50197\n",
       "_ - rank           50197\n",
       "_ - city           50197\n",
       "_ - growth         50193\n",
       "_ - workers        50192\n",
       "_ - company        50197\n",
       "_ - state_s        50197\n",
       "_ - state_l        50197\n",
       "_ - revenue        50196\n",
       "_ - yrs_on_list    50197\n",
       "_ - industry       50165\n",
       "_ - metro          50059\n",
       "dtype: int64"
      ]
     },
     "execution_count": 4,
     "metadata": {},
     "output_type": "execute_result"
    }
   ],
   "source": [
    "us10yr.count()"
   ]
  },
  {
   "cell_type": "markdown",
   "metadata": {},
   "source": [
    "### Renames columns to uniform lowercase pattern, runs .head(), and puts them into a \"new DataFrame\""
   ]
  },
  {
   "cell_type": "code",
   "execution_count": 13,
   "metadata": {},
   "outputs": [],
   "source": [
    "us10yrclean = us10yr.rename(columns={'_ - rank':'rank', '_ - city':'city','_ - growth':'growth', \n",
    "                      '_ - workers':'workers', '_ - workers':'workers',\n",
    "                      '_ - company': 'company', '_ - state_s':'state_s', '_ - state_l':'state_l',\n",
    "                      '_ - revenue':'revenue', '_ - yrs_on_list':'yrs_on_list','_ - industry':'industry',\n",
    "                      '_ - metro':'metro'\n",
    "                      })"
   ]
  },
  {
   "cell_type": "code",
   "execution_count": 9,
   "metadata": {},
   "outputs": [],
   "source": [
    "del us10yr['_ - state_l']"
   ]
  },
  {
   "cell_type": "code",
   "execution_count": 14,
   "metadata": {},
   "outputs": [
    {
     "data": {
      "text/html": [
       "<div>\n",
       "<style scoped>\n",
       "    .dataframe tbody tr th:only-of-type {\n",
       "        vertical-align: middle;\n",
       "    }\n",
       "\n",
       "    .dataframe tbody tr th {\n",
       "        vertical-align: top;\n",
       "    }\n",
       "\n",
       "    .dataframe thead th {\n",
       "        text-align: right;\n",
       "    }\n",
       "</style>\n",
       "<table border=\"1\" class=\"dataframe\">\n",
       "  <thead>\n",
       "    <tr style=\"text-align: right;\">\n",
       "      <th></th>\n",
       "      <th>year</th>\n",
       "      <th>rank</th>\n",
       "      <th>city</th>\n",
       "      <th>growth</th>\n",
       "      <th>workers</th>\n",
       "      <th>company</th>\n",
       "      <th>state_s</th>\n",
       "      <th>revenue</th>\n",
       "      <th>yrs_on_list</th>\n",
       "      <th>industry</th>\n",
       "      <th>metro</th>\n",
       "    </tr>\n",
       "  </thead>\n",
       "  <tbody>\n",
       "    <tr>\n",
       "      <th>0</th>\n",
       "      <td>2016</td>\n",
       "      <td>1</td>\n",
       "      <td>Los Angeles</td>\n",
       "      <td>66788.5962</td>\n",
       "      <td>218.0</td>\n",
       "      <td>Loot Crate</td>\n",
       "      <td>CA</td>\n",
       "      <td>116247698.0</td>\n",
       "      <td>1</td>\n",
       "      <td>Consumer Products &amp; Services</td>\n",
       "      <td>Los Angeles</td>\n",
       "    </tr>\n",
       "    <tr>\n",
       "      <th>1</th>\n",
       "      <td>2016</td>\n",
       "      <td>2</td>\n",
       "      <td>Somerville</td>\n",
       "      <td>36555.2472</td>\n",
       "      <td>100.0</td>\n",
       "      <td>Paint Nite</td>\n",
       "      <td>MA</td>\n",
       "      <td>55018793.0</td>\n",
       "      <td>2</td>\n",
       "      <td>Consumer Products &amp; Services</td>\n",
       "      <td>Boston</td>\n",
       "    </tr>\n",
       "    <tr>\n",
       "      <th>2</th>\n",
       "      <td>2016</td>\n",
       "      <td>3</td>\n",
       "      <td>Visalia</td>\n",
       "      <td>31633.5448</td>\n",
       "      <td>47.0</td>\n",
       "      <td>CalCom Solar</td>\n",
       "      <td>CA</td>\n",
       "      <td>33507450.0</td>\n",
       "      <td>2</td>\n",
       "      <td>Energy</td>\n",
       "      <td>Visalia-Porterville, CA</td>\n",
       "    </tr>\n",
       "    <tr>\n",
       "      <th>3</th>\n",
       "      <td>2016</td>\n",
       "      <td>4</td>\n",
       "      <td>Evansville</td>\n",
       "      <td>23619.7198</td>\n",
       "      <td>82.0</td>\n",
       "      <td>eLuxurySupply.com</td>\n",
       "      <td>IN</td>\n",
       "      <td>30695215.0</td>\n",
       "      <td>2</td>\n",
       "      <td>Retail</td>\n",
       "      <td>Evansville, IN-KY</td>\n",
       "    </tr>\n",
       "    <tr>\n",
       "      <th>4</th>\n",
       "      <td>2016</td>\n",
       "      <td>5</td>\n",
       "      <td>Atlanta</td>\n",
       "      <td>23486.8894</td>\n",
       "      <td>48.0</td>\n",
       "      <td>Company.com</td>\n",
       "      <td>GA</td>\n",
       "      <td>33370967.0</td>\n",
       "      <td>2</td>\n",
       "      <td>Business Products &amp; Services</td>\n",
       "      <td>Atlanta</td>\n",
       "    </tr>\n",
       "    <tr>\n",
       "      <th>5</th>\n",
       "      <td>2016</td>\n",
       "      <td>6</td>\n",
       "      <td>Boston</td>\n",
       "      <td>16196.5338</td>\n",
       "      <td>15.0</td>\n",
       "      <td>Globalization Partners</td>\n",
       "      <td>MA</td>\n",
       "      <td>17743829.0</td>\n",
       "      <td>2</td>\n",
       "      <td>Business Products &amp; Services</td>\n",
       "      <td>Boston</td>\n",
       "    </tr>\n",
       "    <tr>\n",
       "      <th>6</th>\n",
       "      <td>2016</td>\n",
       "      <td>7</td>\n",
       "      <td>New York</td>\n",
       "      <td>14574.6474</td>\n",
       "      <td>130.0</td>\n",
       "      <td>BounceX</td>\n",
       "      <td>NY</td>\n",
       "      <td>15733570.0</td>\n",
       "      <td>1</td>\n",
       "      <td>Software</td>\n",
       "      <td>New York City</td>\n",
       "    </tr>\n",
       "    <tr>\n",
       "      <th>7</th>\n",
       "      <td>2016</td>\n",
       "      <td>8</td>\n",
       "      <td>Santa Monica</td>\n",
       "      <td>14404.6093</td>\n",
       "      <td>25.0</td>\n",
       "      <td>Los York</td>\n",
       "      <td>CA</td>\n",
       "      <td>15598837.0</td>\n",
       "      <td>1</td>\n",
       "      <td>Advertising &amp; Marketing</td>\n",
       "      <td>Los Angeles</td>\n",
       "    </tr>\n",
       "    <tr>\n",
       "      <th>8</th>\n",
       "      <td>2016</td>\n",
       "      <td>9</td>\n",
       "      <td>Pittsburgh</td>\n",
       "      <td>13380.8799</td>\n",
       "      <td>39.0</td>\n",
       "      <td>PANTHERx Specialty Pharmacy</td>\n",
       "      <td>PA</td>\n",
       "      <td>42425003.0</td>\n",
       "      <td>2</td>\n",
       "      <td>Health</td>\n",
       "      <td>Pittsburgh, PA</td>\n",
       "    </tr>\n",
       "    <tr>\n",
       "      <th>9</th>\n",
       "      <td>2016</td>\n",
       "      <td>10</td>\n",
       "      <td>Leesburg</td>\n",
       "      <td>12620.5845</td>\n",
       "      <td>9.0</td>\n",
       "      <td>FedBiz IT Solutions</td>\n",
       "      <td>VA</td>\n",
       "      <td>25863238.0</td>\n",
       "      <td>2</td>\n",
       "      <td>Government Services</td>\n",
       "      <td>Washington, DC</td>\n",
       "    </tr>\n",
       "  </tbody>\n",
       "</table>\n",
       "</div>"
      ],
      "text/plain": [
       "   year  rank          city      growth  workers                      company  \\\n",
       "0  2016     1   Los Angeles  66788.5962    218.0                   Loot Crate   \n",
       "1  2016     2    Somerville  36555.2472    100.0                   Paint Nite   \n",
       "2  2016     3       Visalia  31633.5448     47.0                 CalCom Solar   \n",
       "3  2016     4    Evansville  23619.7198     82.0            eLuxurySupply.com   \n",
       "4  2016     5       Atlanta  23486.8894     48.0                  Company.com   \n",
       "5  2016     6        Boston  16196.5338     15.0       Globalization Partners   \n",
       "6  2016     7      New York  14574.6474    130.0                      BounceX   \n",
       "7  2016     8  Santa Monica  14404.6093     25.0                     Los York   \n",
       "8  2016     9    Pittsburgh  13380.8799     39.0  PANTHERx Specialty Pharmacy   \n",
       "9  2016    10      Leesburg  12620.5845      9.0          FedBiz IT Solutions   \n",
       "\n",
       "  state_s      revenue  yrs_on_list                      industry  \\\n",
       "0      CA  116247698.0            1  Consumer Products & Services   \n",
       "1      MA   55018793.0            2  Consumer Products & Services   \n",
       "2      CA   33507450.0            2                        Energy   \n",
       "3      IN   30695215.0            2                        Retail   \n",
       "4      GA   33370967.0            2  Business Products & Services   \n",
       "5      MA   17743829.0            2  Business Products & Services   \n",
       "6      NY   15733570.0            1                      Software   \n",
       "7      CA   15598837.0            1       Advertising & Marketing   \n",
       "8      PA   42425003.0            2                        Health   \n",
       "9      VA   25863238.0            2           Government Services   \n",
       "\n",
       "                     metro  \n",
       "0              Los Angeles  \n",
       "1                   Boston  \n",
       "2  Visalia-Porterville, CA  \n",
       "3        Evansville, IN-KY  \n",
       "4                  Atlanta  \n",
       "5                   Boston  \n",
       "6            New York City  \n",
       "7              Los Angeles  \n",
       "8           Pittsburgh, PA  \n",
       "9           Washington, DC  "
      ]
     },
     "execution_count": 14,
     "metadata": {},
     "output_type": "execute_result"
    }
   ],
   "source": [
    "us10yrclean.head(10)"
   ]
  },
  {
   "cell_type": "markdown",
   "metadata": {},
   "source": [
    "### Removes NaN values and replaces with \"Unknown\",  drops \"metro column\", then confirms all counts are equal"
   ]
  },
  {
   "cell_type": "code",
   "execution_count": 24,
   "metadata": {},
   "outputs": [],
   "source": [
    "us10yrclean.loc[(us10yrclean[\"industry\"].isnull()), 'industry'] = \"Unknown\""
   ]
  },
  {
   "cell_type": "code",
   "execution_count": 26,
   "metadata": {},
   "outputs": [],
   "source": [
    "us10yrclean.loc[(us10yrclean[\"growth\"].isnull()), 'growth'] = \"Unknown\""
   ]
  },
  {
   "cell_type": "code",
   "execution_count": 27,
   "metadata": {},
   "outputs": [],
   "source": [
    "us10yrclean.loc[(us10yrclean[\"workers\"].isnull()), 'workers'] = \"Unknown\""
   ]
  },
  {
   "cell_type": "code",
   "execution_count": 28,
   "metadata": {},
   "outputs": [],
   "source": [
    "us10yrclean.loc[(us10yrclean[\"revenue\"].isnull()), 'revenue'] = \"Unknown\""
   ]
  },
  {
   "cell_type": "code",
   "execution_count": 29,
   "metadata": {},
   "outputs": [
    {
     "data": {
      "text/plain": [
       "year           50197\n",
       "rank           50197\n",
       "city           50197\n",
       "growth         50197\n",
       "workers        50197\n",
       "company        50197\n",
       "state_s        50197\n",
       "revenue        50197\n",
       "yrs_on_list    50197\n",
       "industry       50197\n",
       "metro          50059\n",
       "dtype: int64"
      ]
     },
     "execution_count": 29,
     "metadata": {},
     "output_type": "execute_result"
    }
   ],
   "source": [
    "us10yrclean.count()"
   ]
  },
  {
   "cell_type": "code",
   "execution_count": 30,
   "metadata": {},
   "outputs": [],
   "source": [
    "del us10yrclean['metro']"
   ]
  },
  {
   "cell_type": "code",
   "execution_count": 31,
   "metadata": {},
   "outputs": [
    {
     "data": {
      "text/plain": [
       "year           50197\n",
       "rank           50197\n",
       "city           50197\n",
       "growth         50197\n",
       "workers        50197\n",
       "company        50197\n",
       "state_s        50197\n",
       "revenue        50197\n",
       "yrs_on_list    50197\n",
       "industry       50197\n",
       "dtype: int64"
      ]
     },
     "execution_count": 31,
     "metadata": {},
     "output_type": "execute_result"
    }
   ],
   "source": [
    "us10yrclean.count()"
   ]
  },
  {
   "cell_type": "code",
   "execution_count": 42,
   "metadata": {},
   "outputs": [
    {
     "data": {
      "text/plain": [
       "year            int64\n",
       "rank            int64\n",
       "city           object\n",
       "growth         object\n",
       "workers        object\n",
       "company        object\n",
       "state_s        object\n",
       "revenue        object\n",
       "yrs_on_list     int64\n",
       "industry       object\n",
       "dtype: object"
      ]
     },
     "execution_count": 42,
     "metadata": {},
     "output_type": "execute_result"
    }
   ],
   "source": [
    "us10yrclean.dtypes"
   ]
  },
  {
   "cell_type": "code",
   "execution_count": null,
   "metadata": {},
   "outputs": [],
   "source": []
  }
 ],
 "metadata": {
  "kernelspec": {
   "display_name": "Python 3",
   "language": "python",
   "name": "python3"
  },
  "language_info": {
   "codemirror_mode": {
    "name": "ipython",
    "version": 3
   },
   "file_extension": ".py",
   "mimetype": "text/x-python",
   "name": "python",
   "nbconvert_exporter": "python",
   "pygments_lexer": "ipython3",
   "version": "3.6.5"
  }
 },
 "nbformat": 4,
 "nbformat_minor": 2
}
