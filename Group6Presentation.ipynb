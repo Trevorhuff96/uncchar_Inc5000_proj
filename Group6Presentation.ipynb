{
 "cells": [
  {
   "cell_type": "markdown",
   "metadata": {},
   "source": [
    "# Group 6 Project 1 Analysis"
   ]
  },
  {
   "cell_type": "markdown",
   "metadata": {},
   "source": [
    "# Initial Data Cleanse"
   ]
  },
  {
   "cell_type": "code",
   "execution_count": 50,
   "metadata": {},
   "outputs": [],
   "source": [
    "import pandas as pd\n",
    "import matplotlib.pyplot as plt\n",
    "import numpy as np\n",
    "import seaborn as sns\n",
    "import gmaps\n",
    "import getpass"
   ]
  },
  {
   "cell_type": "markdown",
   "metadata": {},
   "source": [
    "## Import US data from 2007 to 2018(csv), concat 2018 data, and then clean data. Save csv to folder\n"
   ]
  },
  {
   "cell_type": "code",
   "execution_count": 2,
   "metadata": {},
   "outputs": [],
   "source": [
    "us10yr = pd.read_csv(\"inc5000US10years.csv\", encoding=\"latin1\")\n",
    "us2018 = pd.read_csv(\"US2018.csv\", encoding=\"latin1\")"
   ]
  },
  {
   "cell_type": "code",
   "execution_count": 3,
   "metadata": {},
   "outputs": [
    {
     "data": {
      "text/html": [
       "<div>\n",
       "<style scoped>\n",
       "    .dataframe tbody tr th:only-of-type {\n",
       "        vertical-align: middle;\n",
       "    }\n",
       "\n",
       "    .dataframe tbody tr th {\n",
       "        vertical-align: top;\n",
       "    }\n",
       "\n",
       "    .dataframe thead th {\n",
       "        text-align: right;\n",
       "    }\n",
       "</style>\n",
       "<table border=\"1\" class=\"dataframe\">\n",
       "  <thead>\n",
       "    <tr style=\"text-align: right;\">\n",
       "      <th></th>\n",
       "      <th>year</th>\n",
       "      <th>_ - rank</th>\n",
       "      <th>_ - city</th>\n",
       "      <th>_ - growth</th>\n",
       "      <th>_ - workers</th>\n",
       "      <th>_ - company</th>\n",
       "      <th>_ - state_s</th>\n",
       "      <th>_ - state_l</th>\n",
       "      <th>_ - revenue</th>\n",
       "      <th>_ - yrs_on_list</th>\n",
       "      <th>_ - industry</th>\n",
       "      <th>_ - metro</th>\n",
       "    </tr>\n",
       "  </thead>\n",
       "  <tbody>\n",
       "    <tr>\n",
       "      <th>0</th>\n",
       "      <td>2016</td>\n",
       "      <td>1</td>\n",
       "      <td>Los Angeles</td>\n",
       "      <td>66788.5962</td>\n",
       "      <td>218.0</td>\n",
       "      <td>Loot Crate</td>\n",
       "      <td>CA</td>\n",
       "      <td>California</td>\n",
       "      <td>116247698.0</td>\n",
       "      <td>1</td>\n",
       "      <td>Consumer Products &amp; Services</td>\n",
       "      <td>Los Angeles</td>\n",
       "    </tr>\n",
       "    <tr>\n",
       "      <th>1</th>\n",
       "      <td>2016</td>\n",
       "      <td>2</td>\n",
       "      <td>Somerville</td>\n",
       "      <td>36555.2472</td>\n",
       "      <td>100.0</td>\n",
       "      <td>Paint Nite</td>\n",
       "      <td>MA</td>\n",
       "      <td>Massachusetts</td>\n",
       "      <td>55018793.0</td>\n",
       "      <td>2</td>\n",
       "      <td>Consumer Products &amp; Services</td>\n",
       "      <td>Boston</td>\n",
       "    </tr>\n",
       "    <tr>\n",
       "      <th>2</th>\n",
       "      <td>2016</td>\n",
       "      <td>3</td>\n",
       "      <td>Visalia</td>\n",
       "      <td>31633.5448</td>\n",
       "      <td>47.0</td>\n",
       "      <td>CalCom Solar</td>\n",
       "      <td>CA</td>\n",
       "      <td>California</td>\n",
       "      <td>33507450.0</td>\n",
       "      <td>2</td>\n",
       "      <td>Energy</td>\n",
       "      <td>Visalia-Porterville, CA</td>\n",
       "    </tr>\n",
       "    <tr>\n",
       "      <th>3</th>\n",
       "      <td>2016</td>\n",
       "      <td>4</td>\n",
       "      <td>Evansville</td>\n",
       "      <td>23619.7198</td>\n",
       "      <td>82.0</td>\n",
       "      <td>eLuxurySupply.com</td>\n",
       "      <td>IN</td>\n",
       "      <td>Indiana</td>\n",
       "      <td>30695215.0</td>\n",
       "      <td>2</td>\n",
       "      <td>Retail</td>\n",
       "      <td>Evansville, IN-KY</td>\n",
       "    </tr>\n",
       "    <tr>\n",
       "      <th>4</th>\n",
       "      <td>2016</td>\n",
       "      <td>5</td>\n",
       "      <td>Atlanta</td>\n",
       "      <td>23486.8894</td>\n",
       "      <td>48.0</td>\n",
       "      <td>Company.com</td>\n",
       "      <td>GA</td>\n",
       "      <td>Georgia</td>\n",
       "      <td>33370967.0</td>\n",
       "      <td>2</td>\n",
       "      <td>Business Products &amp; Services</td>\n",
       "      <td>Atlanta</td>\n",
       "    </tr>\n",
       "  </tbody>\n",
       "</table>\n",
       "</div>"
      ],
      "text/plain": [
       "   year  _ - rank     _ - city  _ - growth  _ - workers        _ - company  \\\n",
       "0  2016         1  Los Angeles  66788.5962        218.0         Loot Crate   \n",
       "1  2016         2   Somerville  36555.2472        100.0         Paint Nite   \n",
       "2  2016         3      Visalia  31633.5448         47.0       CalCom Solar   \n",
       "3  2016         4   Evansville  23619.7198         82.0  eLuxurySupply.com   \n",
       "4  2016         5      Atlanta  23486.8894         48.0        Company.com   \n",
       "\n",
       "  _ - state_s    _ - state_l  _ - revenue  _ - yrs_on_list  \\\n",
       "0          CA     California  116247698.0                1   \n",
       "1          MA  Massachusetts   55018793.0                2   \n",
       "2          CA     California   33507450.0                2   \n",
       "3          IN        Indiana   30695215.0                2   \n",
       "4          GA        Georgia   33370967.0                2   \n",
       "\n",
       "                   _ - industry                _ - metro  \n",
       "0  Consumer Products & Services              Los Angeles  \n",
       "1  Consumer Products & Services                   Boston  \n",
       "2                        Energy  Visalia-Porterville, CA  \n",
       "3                        Retail        Evansville, IN-KY  \n",
       "4  Business Products & Services                  Atlanta  "
      ]
     },
     "execution_count": 3,
     "metadata": {},
     "output_type": "execute_result"
    }
   ],
   "source": [
    "us10yr.head()"
   ]
  },
  {
   "cell_type": "markdown",
   "metadata": {},
   "source": [
    "#### Concacts the usdata csvs"
   ]
  },
  {
   "cell_type": "code",
   "execution_count": 4,
   "metadata": {},
   "outputs": [],
   "source": [
    "us10yrclean = us10yr.rename(columns={'_ - rank':'rank', '_ - city':'city','_ - growth':'growth', \n",
    "                      '_ - workers':'workers', '_ - workers':'workers',\n",
    "                      '_ - company': 'company', '_ - state_s':'state_s', '_ - state_l':'state_l',\n",
    "                      '_ - revenue':'revenue', '_ - yrs_on_list':'yrsonlist','_ - industry':'industry',\n",
    "                      '_ - metro':'metro'\n",
    "                      })"
   ]
  },
  {
   "cell_type": "code",
   "execution_count": 5,
   "metadata": {},
   "outputs": [],
   "source": [
    "del us10yrclean['state_l']\n",
    "del us10yrclean['metro']\n",
    "del us10yrclean['rank']"
   ]
  },
  {
   "cell_type": "code",
   "execution_count": 6,
   "metadata": {},
   "outputs": [
    {
     "data": {
      "text/html": [
       "<div>\n",
       "<style scoped>\n",
       "    .dataframe tbody tr th:only-of-type {\n",
       "        vertical-align: middle;\n",
       "    }\n",
       "\n",
       "    .dataframe tbody tr th {\n",
       "        vertical-align: top;\n",
       "    }\n",
       "\n",
       "    .dataframe thead th {\n",
       "        text-align: right;\n",
       "    }\n",
       "</style>\n",
       "<table border=\"1\" class=\"dataframe\">\n",
       "  <thead>\n",
       "    <tr style=\"text-align: right;\">\n",
       "      <th></th>\n",
       "      <th>year</th>\n",
       "      <th>city</th>\n",
       "      <th>growth</th>\n",
       "      <th>workers</th>\n",
       "      <th>company</th>\n",
       "      <th>state_s</th>\n",
       "      <th>revenue</th>\n",
       "      <th>yrsonlist</th>\n",
       "      <th>industry</th>\n",
       "      <th>state</th>\n",
       "    </tr>\n",
       "  </thead>\n",
       "  <tbody>\n",
       "    <tr>\n",
       "      <th>0</th>\n",
       "      <td>2016</td>\n",
       "      <td>Los Angeles</td>\n",
       "      <td>66788.5962</td>\n",
       "      <td>218.0</td>\n",
       "      <td>Loot Crate</td>\n",
       "      <td>CA</td>\n",
       "      <td>116247698.0</td>\n",
       "      <td>1.0</td>\n",
       "      <td>Consumer Products &amp; Services</td>\n",
       "      <td>NaN</td>\n",
       "    </tr>\n",
       "    <tr>\n",
       "      <th>1</th>\n",
       "      <td>2016</td>\n",
       "      <td>Somerville</td>\n",
       "      <td>36555.2472</td>\n",
       "      <td>100.0</td>\n",
       "      <td>Paint Nite</td>\n",
       "      <td>MA</td>\n",
       "      <td>55018793.0</td>\n",
       "      <td>2.0</td>\n",
       "      <td>Consumer Products &amp; Services</td>\n",
       "      <td>NaN</td>\n",
       "    </tr>\n",
       "    <tr>\n",
       "      <th>2</th>\n",
       "      <td>2016</td>\n",
       "      <td>Visalia</td>\n",
       "      <td>31633.5448</td>\n",
       "      <td>47.0</td>\n",
       "      <td>CalCom Solar</td>\n",
       "      <td>CA</td>\n",
       "      <td>33507450.0</td>\n",
       "      <td>2.0</td>\n",
       "      <td>Energy</td>\n",
       "      <td>NaN</td>\n",
       "    </tr>\n",
       "    <tr>\n",
       "      <th>3</th>\n",
       "      <td>2016</td>\n",
       "      <td>Evansville</td>\n",
       "      <td>23619.7198</td>\n",
       "      <td>82.0</td>\n",
       "      <td>eLuxurySupply.com</td>\n",
       "      <td>IN</td>\n",
       "      <td>30695215.0</td>\n",
       "      <td>2.0</td>\n",
       "      <td>Retail</td>\n",
       "      <td>NaN</td>\n",
       "    </tr>\n",
       "    <tr>\n",
       "      <th>4</th>\n",
       "      <td>2016</td>\n",
       "      <td>Atlanta</td>\n",
       "      <td>23486.8894</td>\n",
       "      <td>48.0</td>\n",
       "      <td>Company.com</td>\n",
       "      <td>GA</td>\n",
       "      <td>33370967.0</td>\n",
       "      <td>2.0</td>\n",
       "      <td>Business Products &amp; Services</td>\n",
       "      <td>NaN</td>\n",
       "    </tr>\n",
       "  </tbody>\n",
       "</table>\n",
       "</div>"
      ],
      "text/plain": [
       "   year         city      growth  workers            company state_s  \\\n",
       "0  2016  Los Angeles  66788.5962    218.0         Loot Crate      CA   \n",
       "1  2016   Somerville  36555.2472    100.0         Paint Nite      MA   \n",
       "2  2016      Visalia  31633.5448     47.0       CalCom Solar      CA   \n",
       "3  2016   Evansville  23619.7198     82.0  eLuxurySupply.com      IN   \n",
       "4  2016      Atlanta  23486.8894     48.0        Company.com      GA   \n",
       "\n",
       "       revenue  yrsonlist                      industry state  \n",
       "0  116247698.0        1.0  Consumer Products & Services   NaN  \n",
       "1   55018793.0        2.0  Consumer Products & Services   NaN  \n",
       "2   33507450.0        2.0                        Energy   NaN  \n",
       "3   30695215.0        2.0                        Retail   NaN  \n",
       "4   33370967.0        2.0  Business Products & Services   NaN  "
      ]
     },
     "execution_count": 6,
     "metadata": {},
     "output_type": "execute_result"
    }
   ],
   "source": [
    "US_list= [us10yrclean, us2018]\n",
    "usTable=pd.concat(US_list, sort=False)\n",
    "usTable.head()"
   ]
  },
  {
   "cell_type": "markdown",
   "metadata": {},
   "source": [
    "#### Removes NaN values and replaces with \"Unknown\" in the industry column, and removed rows with a blank in revenue or \n",
    "#### growth"
   ]
  },
  {
   "cell_type": "code",
   "execution_count": 7,
   "metadata": {},
   "outputs": [],
   "source": [
    "usTable.loc[(usTable[\"revenue\"].isnull()),'industry'] = \"Unknown\""
   ]
  },
  {
   "cell_type": "code",
   "execution_count": 8,
   "metadata": {},
   "outputs": [],
   "source": [
    "usTable=usTable.drop(usTable.loc[(usTable[\"revenue\"].isnull()),:].index[:])\n",
    "usTable=usTable.drop(usTable.loc[(usTable[\"workers\"].isnull()),:].index[:])\n",
    "usTable=usTable.drop(usTable.loc[(usTable[\"growth\"].isnull()),:].index[:])\n",
    "usTable=usTable.drop(usTable.loc[(usTable[\"city\"].isnull()),:].index[:])\n",
    "usTable=usTable.drop(usTable.loc[(usTable[\"state_s\"].isnull()),:].index[:])\n",
    "usTable=usTable.drop(usTable.loc[(usTable[\"industry\"].isnull()),:].index[:])"
   ]
  },
  {
   "cell_type": "markdown",
   "metadata": {},
   "source": [
    "#### Validate cleaning process"
   ]
  },
  {
   "cell_type": "code",
   "execution_count": 9,
   "metadata": {},
   "outputs": [
    {
     "data": {
      "text/plain": [
       "year         45147\n",
       "city         45147\n",
       "growth       45147\n",
       "workers      45147\n",
       "company      45147\n",
       "state_s      45147\n",
       "revenue      45147\n",
       "yrsonlist    45147\n",
       "industry     45147\n",
       "state            0\n",
       "dtype: int64"
      ]
     },
     "execution_count": 9,
     "metadata": {},
     "output_type": "execute_result"
    }
   ],
   "source": [
    "usTable.count()"
   ]
  },
  {
   "cell_type": "code",
   "execution_count": 10,
   "metadata": {},
   "outputs": [
    {
     "data": {
      "text/plain": [
       "year         False\n",
       "city         False\n",
       "growth       False\n",
       "workers      False\n",
       "company      False\n",
       "state_s      False\n",
       "revenue      False\n",
       "yrsonlist    False\n",
       "industry     False\n",
       "state         True\n",
       "dtype: bool"
      ]
     },
     "execution_count": 10,
     "metadata": {},
     "output_type": "execute_result"
    }
   ],
   "source": [
    "usTable.isnull().any()"
   ]
  },
  {
   "cell_type": "markdown",
   "metadata": {},
   "source": [
    "#### Save cleaned data to csv"
   ]
  },
  {
   "cell_type": "code",
   "execution_count": 11,
   "metadata": {},
   "outputs": [],
   "source": [
    "usTable.to_csv(\"Testusclean.csv\",index=False)"
   ]
  },
  {
   "cell_type": "markdown",
   "metadata": {},
   "source": [
    "## Import Europe data seperate years and concact into one uniform European dataframe for analysis"
   ]
  },
  {
   "cell_type": "code",
   "execution_count": 12,
   "metadata": {},
   "outputs": [],
   "source": [
    "eu2016= pd.read_csv(\"Inc5000eu_2016.csv\", encoding=\"latin1\")\n",
    "eu2017= pd.read_csv(\"inc5000eu_2017.csv\", encoding=\"latin1\")\n",
    "eu2018= pd.read_csv(\"inc500eu_2018.csv\", encoding=\"latin1\")"
   ]
  },
  {
   "cell_type": "code",
   "execution_count": 13,
   "metadata": {},
   "outputs": [
    {
     "data": {
      "text/plain": [
       "Index(['2016 Rank', 'Company', 'URL', 'Address', 'City', 'ZIP',\n",
       "       'Employee Count', 'Founded Year', 'Company Phone', 'Revenue',\n",
       "       'Inc.com URL', 'Growth', 'Revenue Raw', 'Country', 'Industry',\n",
       "       'Years on INC 5000'],\n",
       "      dtype='object')"
      ]
     },
     "execution_count": 13,
     "metadata": {},
     "output_type": "execute_result"
    }
   ],
   "source": [
    "eu2016.columns"
   ]
  },
  {
   "cell_type": "code",
   "execution_count": 14,
   "metadata": {},
   "outputs": [
    {
     "data": {
      "text/plain": [
       "Index(['url', 'rank', 'city', 'growth', 'company', 'revenue', 'country',\n",
       "       'industry', 'yrs_on_list'],\n",
       "      dtype='object')"
      ]
     },
     "execution_count": 14,
     "metadata": {},
     "output_type": "execute_result"
    }
   ],
   "source": [
    "eu2017.columns"
   ]
  },
  {
   "cell_type": "code",
   "execution_count": 15,
   "metadata": {},
   "outputs": [
    {
     "data": {
      "text/plain": [
       "Index([' url', ' rank', ' city', ' growth', ' company', ' country', ' revenue',\n",
       "       ' industry', ' yrs_on_list'],\n",
       "      dtype='object')"
      ]
     },
     "execution_count": 15,
     "metadata": {},
     "output_type": "execute_result"
    }
   ],
   "source": [
    "eu2018.columns"
   ]
  },
  {
   "cell_type": "code",
   "execution_count": 16,
   "metadata": {},
   "outputs": [],
   "source": [
    "eu2016[\"year\"]=\"\"\n",
    "eu2016.loc[:,'year']=2016\n",
    "eu2017[\"year\"]=\"\"\n",
    "eu2017.loc[:,'year']=2017\n",
    "eu2018[\"year\"]=\"\"\n",
    "eu2018.loc[:,'year']=2018"
   ]
  },
  {
   "cell_type": "markdown",
   "metadata": {},
   "source": [
    "#### Make sure all columns are the same throughout all of the dataframes"
   ]
  },
  {
   "cell_type": "code",
   "execution_count": 17,
   "metadata": {},
   "outputs": [],
   "source": [
    "eu2016 = eu2016.rename(columns={'URL':'url', '2016 Rank':'rank', 'City':'city', 'Growth': 'growth','Company' :'company', \n",
    "                                'Revenue Raw':'revenue','Country':'country','Industry':'industry', \n",
    "                                'Years on INC 5000':'yrs_on_list'})"
   ]
  },
  {
   "cell_type": "code",
   "execution_count": 18,
   "metadata": {},
   "outputs": [],
   "source": [
    "eu2018 = eu2018.rename(columns={' url':'url', ' rank':'rank', ' city':'city', ' growth': 'growth',' company' :'company', \n",
    "                                ' revenue':'revenue', ' country':'country',' industry':'industry', ' yrs_on_list':'yrs_on_list'})"
   ]
  },
  {
   "cell_type": "code",
   "execution_count": 19,
   "metadata": {},
   "outputs": [],
   "source": [
    "eu2016New=eu2016.loc[:,['url', 'rank', 'city', 'growth', 'company', 'country', 'revenue',\n",
    "       'industry', 'yrs_on_list', 'year']]"
   ]
  },
  {
   "cell_type": "code",
   "execution_count": 20,
   "metadata": {},
   "outputs": [
    {
     "data": {
      "text/plain": [
       "Index(['url', 'rank', 'city', 'growth', 'company', 'country', 'revenue',\n",
       "       'industry', 'yrs_on_list', 'year'],\n",
       "      dtype='object')"
      ]
     },
     "execution_count": 20,
     "metadata": {},
     "output_type": "execute_result"
    }
   ],
   "source": [
    "eu2016New.columns"
   ]
  },
  {
   "cell_type": "markdown",
   "metadata": {},
   "source": [
    "#### Create list that holds every dataframe"
   ]
  },
  {
   "cell_type": "code",
   "execution_count": 21,
   "metadata": {},
   "outputs": [],
   "source": [
    "list_europe= [eu2016New,eu2017, eu2018]"
   ]
  },
  {
   "cell_type": "markdown",
   "metadata": {},
   "source": [
    "#### Create new DataFrame that concates all the seperate tables"
   ]
  },
  {
   "cell_type": "code",
   "execution_count": 22,
   "metadata": {},
   "outputs": [
    {
     "data": {
      "text/plain": [
       "Index(['url', 'rank', 'city', 'growth', 'company', 'country', 'revenue',\n",
       "       'industry', 'yrs_on_list', 'year'],\n",
       "      dtype='object')"
      ]
     },
     "execution_count": 22,
     "metadata": {},
     "output_type": "execute_result"
    }
   ],
   "source": [
    "europeTable=pd.concat(list_europe, sort=False)\n",
    "europeTable.columns"
   ]
  },
  {
   "cell_type": "markdown",
   "metadata": {},
   "source": [
    "#### Index value goes back to 0 when the year changes\n",
    "#### Reset the index so the values do not reset to 0 after every new year"
   ]
  },
  {
   "cell_type": "code",
   "execution_count": 23,
   "metadata": {},
   "outputs": [],
   "source": [
    "europeTable= europeTable.reset_index()"
   ]
  },
  {
   "cell_type": "markdown",
   "metadata": {},
   "source": [
    "#### Drop the original index value"
   ]
  },
  {
   "cell_type": "code",
   "execution_count": 24,
   "metadata": {},
   "outputs": [],
   "source": [
    "europeTable=europeTable.drop(\"index\", axis=1)"
   ]
  },
  {
   "cell_type": "markdown",
   "metadata": {},
   "source": [
    "#### Drop other unnecessary indices"
   ]
  },
  {
   "cell_type": "code",
   "execution_count": 25,
   "metadata": {},
   "outputs": [],
   "source": [
    "europeTable=europeTable.drop(\"url\", axis=1)\n",
    "europeTable=europeTable.drop(\"rank\", axis=1)"
   ]
  },
  {
   "cell_type": "markdown",
   "metadata": {},
   "source": [
    "#### Check and see what the new dataframe looks like (looking at when the year changes from 2016 to 2017)"
   ]
  },
  {
   "cell_type": "code",
   "execution_count": 26,
   "metadata": {},
   "outputs": [
    {
     "data": {
      "text/html": [
       "<div>\n",
       "<style scoped>\n",
       "    .dataframe tbody tr th:only-of-type {\n",
       "        vertical-align: middle;\n",
       "    }\n",
       "\n",
       "    .dataframe tbody tr th {\n",
       "        vertical-align: top;\n",
       "    }\n",
       "\n",
       "    .dataframe thead th {\n",
       "        text-align: right;\n",
       "    }\n",
       "</style>\n",
       "<table border=\"1\" class=\"dataframe\">\n",
       "  <thead>\n",
       "    <tr style=\"text-align: right;\">\n",
       "      <th></th>\n",
       "      <th>city</th>\n",
       "      <th>growth</th>\n",
       "      <th>company</th>\n",
       "      <th>country</th>\n",
       "      <th>revenue</th>\n",
       "      <th>industry</th>\n",
       "      <th>yrs_on_list</th>\n",
       "      <th>year</th>\n",
       "    </tr>\n",
       "  </thead>\n",
       "  <tbody>\n",
       "    <tr>\n",
       "      <th>4990</th>\n",
       "      <td>Parnu</td>\n",
       "      <td>94.4899</td>\n",
       "      <td>Import Auto OU</td>\n",
       "      <td>Estonia</td>\n",
       "      <td>4855748.0</td>\n",
       "      <td>Retail</td>\n",
       "      <td>1</td>\n",
       "      <td>2016</td>\n",
       "    </tr>\n",
       "    <tr>\n",
       "      <th>4991</th>\n",
       "      <td>Istanbul</td>\n",
       "      <td>94.3728</td>\n",
       "      <td>ODC Business Solutions</td>\n",
       "      <td>Turkey</td>\n",
       "      <td>3720418.0</td>\n",
       "      <td>Business Products &amp; Services</td>\n",
       "      <td>1</td>\n",
       "      <td>2016</td>\n",
       "    </tr>\n",
       "    <tr>\n",
       "      <th>4992</th>\n",
       "      <td>Deisslingen</td>\n",
       "      <td>93.3333</td>\n",
       "      <td>Camping-Freizeit Dorn OHG</td>\n",
       "      <td>Germany</td>\n",
       "      <td>5800000.0</td>\n",
       "      <td>Travel &amp; Hospitality</td>\n",
       "      <td>1</td>\n",
       "      <td>2016</td>\n",
       "    </tr>\n",
       "    <tr>\n",
       "      <th>4993</th>\n",
       "      <td>paris</td>\n",
       "      <td>92.2665</td>\n",
       "      <td>Apsia</td>\n",
       "      <td>France</td>\n",
       "      <td>5479404.0</td>\n",
       "      <td>IT Services</td>\n",
       "      <td>1</td>\n",
       "      <td>2016</td>\n",
       "    </tr>\n",
       "    <tr>\n",
       "      <th>4994</th>\n",
       "      <td>Stockholm</td>\n",
       "      <td>4694.9849</td>\n",
       "      <td>Daniel Wellington AB</td>\n",
       "      <td>Sweden</td>\n",
       "      <td>155773187.0</td>\n",
       "      <td>Retail</td>\n",
       "      <td>1</td>\n",
       "      <td>2017</td>\n",
       "    </tr>\n",
       "    <tr>\n",
       "      <th>4995</th>\n",
       "      <td>Tourlaville</td>\n",
       "      <td>3956.7425</td>\n",
       "      <td>LE Petit Vapoteur</td>\n",
       "      <td>France</td>\n",
       "      <td>14535633.0</td>\n",
       "      <td>Retail</td>\n",
       "      <td>1</td>\n",
       "      <td>2017</td>\n",
       "    </tr>\n",
       "    <tr>\n",
       "      <th>4996</th>\n",
       "      <td>Szekesfehervar</td>\n",
       "      <td>3954.0236</td>\n",
       "      <td>Martin Metal Product</td>\n",
       "      <td>Hungary</td>\n",
       "      <td>16473241.0</td>\n",
       "      <td>Construction</td>\n",
       "      <td>1</td>\n",
       "      <td>2017</td>\n",
       "    </tr>\n",
       "    <tr>\n",
       "      <th>4997</th>\n",
       "      <td>Helsinki</td>\n",
       "      <td>3864.1671</td>\n",
       "      <td>Odeal Oy</td>\n",
       "      <td>Finland</td>\n",
       "      <td>16736000.0</td>\n",
       "      <td>Business Products &amp; Services</td>\n",
       "      <td>1</td>\n",
       "      <td>2017</td>\n",
       "    </tr>\n",
       "    <tr>\n",
       "      <th>4998</th>\n",
       "      <td>London</td>\n",
       "      <td>3469.0884</td>\n",
       "      <td>Balyasny Europe Asset Management LLP</td>\n",
       "      <td>United Kingdom</td>\n",
       "      <td>39409838.0</td>\n",
       "      <td>Financial Services</td>\n",
       "      <td>1</td>\n",
       "      <td>2017</td>\n",
       "    </tr>\n",
       "    <tr>\n",
       "      <th>4999</th>\n",
       "      <td>Stockholm</td>\n",
       "      <td>3456.6324</td>\n",
       "      <td>Cabonline Technologies AB</td>\n",
       "      <td>Sweden</td>\n",
       "      <td>9005500.0</td>\n",
       "      <td>Business Products &amp; Services</td>\n",
       "      <td>1</td>\n",
       "      <td>2017</td>\n",
       "    </tr>\n",
       "    <tr>\n",
       "      <th>5000</th>\n",
       "      <td>Corsham</td>\n",
       "      <td>3439.7579</td>\n",
       "      <td>Ukcloud Ltd</td>\n",
       "      <td>United Kingdom</td>\n",
       "      <td>40548528.0</td>\n",
       "      <td>IT Services</td>\n",
       "      <td>1</td>\n",
       "      <td>2017</td>\n",
       "    </tr>\n",
       "    <tr>\n",
       "      <th>5001</th>\n",
       "      <td>Stockholm</td>\n",
       "      <td>3229.8652</td>\n",
       "      <td>Star Stable Entertainment AB</td>\n",
       "      <td>Sweden</td>\n",
       "      <td>9700097.0</td>\n",
       "      <td>Software</td>\n",
       "      <td>1</td>\n",
       "      <td>2017</td>\n",
       "    </tr>\n",
       "    <tr>\n",
       "      <th>5002</th>\n",
       "      <td>Stockholm</td>\n",
       "      <td>3186.2977</td>\n",
       "      <td>Feo Media AB</td>\n",
       "      <td>Sweden</td>\n",
       "      <td>13747109.0</td>\n",
       "      <td>Software</td>\n",
       "      <td>1</td>\n",
       "      <td>2017</td>\n",
       "    </tr>\n",
       "    <tr>\n",
       "      <th>5003</th>\n",
       "      <td>Stockholm</td>\n",
       "      <td>3157.4633</td>\n",
       "      <td>Furniture Box AB</td>\n",
       "      <td>Sweden</td>\n",
       "      <td>36104485.0</td>\n",
       "      <td>Retail</td>\n",
       "      <td>1</td>\n",
       "      <td>2017</td>\n",
       "    </tr>\n",
       "    <tr>\n",
       "      <th>5004</th>\n",
       "      <td>Modena</td>\n",
       "      <td>3143.6532</td>\n",
       "      <td>Ecobloks - S.R.L.</td>\n",
       "      <td>Italy</td>\n",
       "      <td>12179042.0</td>\n",
       "      <td>Environmental Services</td>\n",
       "      <td>1</td>\n",
       "      <td>2017</td>\n",
       "    </tr>\n",
       "    <tr>\n",
       "      <th>5005</th>\n",
       "      <td>London</td>\n",
       "      <td>3109.3841</td>\n",
       "      <td>Smarkets</td>\n",
       "      <td>United Kingdom</td>\n",
       "      <td>14435200.0</td>\n",
       "      <td>Financial Services</td>\n",
       "      <td>1</td>\n",
       "      <td>2017</td>\n",
       "    </tr>\n",
       "    <tr>\n",
       "      <th>5006</th>\n",
       "      <td>Edinburgh</td>\n",
       "      <td>3073.3348</td>\n",
       "      <td>Kiltearn Partners LLP</td>\n",
       "      <td>United Kingdom</td>\n",
       "      <td>45813815.0</td>\n",
       "      <td>Business Products &amp; Services</td>\n",
       "      <td>1</td>\n",
       "      <td>2017</td>\n",
       "    </tr>\n",
       "    <tr>\n",
       "      <th>5007</th>\n",
       "      <td>Saldus nov.</td>\n",
       "      <td>3064.5036</td>\n",
       "      <td>Jets Vacuum SIA</td>\n",
       "      <td>Latvia</td>\n",
       "      <td>6728779.0</td>\n",
       "      <td>Construction</td>\n",
       "      <td>1</td>\n",
       "      <td>2017</td>\n",
       "    </tr>\n",
       "    <tr>\n",
       "      <th>5008</th>\n",
       "      <td>London</td>\n",
       "      <td>3007.5517</td>\n",
       "      <td>Griffin Markets Group Limited</td>\n",
       "      <td>United Kingdom</td>\n",
       "      <td>10008585.0</td>\n",
       "      <td>Financial Services</td>\n",
       "      <td>1</td>\n",
       "      <td>2017</td>\n",
       "    </tr>\n",
       "    <tr>\n",
       "      <th>5009</th>\n",
       "      <td>Helsinki</td>\n",
       "      <td>2980.2610</td>\n",
       "      <td>AdLibris Finland Oy</td>\n",
       "      <td>Finland</td>\n",
       "      <td>18882000.0</td>\n",
       "      <td>Retail</td>\n",
       "      <td>1</td>\n",
       "      <td>2017</td>\n",
       "    </tr>\n",
       "  </tbody>\n",
       "</table>\n",
       "</div>"
      ],
      "text/plain": [
       "                city     growth                               company  \\\n",
       "4990           Parnu    94.4899                        Import Auto OU   \n",
       "4991        Istanbul    94.3728                ODC Business Solutions   \n",
       "4992     Deisslingen    93.3333             Camping-Freizeit Dorn OHG   \n",
       "4993           paris    92.2665                                 Apsia   \n",
       "4994       Stockholm  4694.9849                  Daniel Wellington AB   \n",
       "4995     Tourlaville  3956.7425                     LE Petit Vapoteur   \n",
       "4996  Szekesfehervar  3954.0236                  Martin Metal Product   \n",
       "4997        Helsinki  3864.1671                              Odeal Oy   \n",
       "4998          London  3469.0884  Balyasny Europe Asset Management LLP   \n",
       "4999       Stockholm  3456.6324             Cabonline Technologies AB   \n",
       "5000         Corsham  3439.7579                           Ukcloud Ltd   \n",
       "5001       Stockholm  3229.8652          Star Stable Entertainment AB   \n",
       "5002       Stockholm  3186.2977                          Feo Media AB   \n",
       "5003       Stockholm  3157.4633                      Furniture Box AB   \n",
       "5004          Modena  3143.6532                     Ecobloks - S.R.L.   \n",
       "5005          London  3109.3841                              Smarkets   \n",
       "5006       Edinburgh  3073.3348                 Kiltearn Partners LLP   \n",
       "5007     Saldus nov.  3064.5036                       Jets Vacuum SIA   \n",
       "5008          London  3007.5517         Griffin Markets Group Limited   \n",
       "5009        Helsinki  2980.2610                   AdLibris Finland Oy   \n",
       "\n",
       "             country      revenue                      industry  yrs_on_list  \\\n",
       "4990         Estonia    4855748.0                        Retail            1   \n",
       "4991          Turkey    3720418.0  Business Products & Services            1   \n",
       "4992         Germany    5800000.0          Travel & Hospitality            1   \n",
       "4993          France    5479404.0                   IT Services            1   \n",
       "4994          Sweden  155773187.0                        Retail            1   \n",
       "4995          France   14535633.0                        Retail            1   \n",
       "4996         Hungary   16473241.0                  Construction            1   \n",
       "4997         Finland   16736000.0  Business Products & Services            1   \n",
       "4998  United Kingdom   39409838.0            Financial Services            1   \n",
       "4999          Sweden    9005500.0  Business Products & Services            1   \n",
       "5000  United Kingdom   40548528.0                   IT Services            1   \n",
       "5001          Sweden    9700097.0                      Software            1   \n",
       "5002          Sweden   13747109.0                      Software            1   \n",
       "5003          Sweden   36104485.0                        Retail            1   \n",
       "5004           Italy   12179042.0        Environmental Services            1   \n",
       "5005  United Kingdom   14435200.0            Financial Services            1   \n",
       "5006  United Kingdom   45813815.0  Business Products & Services            1   \n",
       "5007          Latvia    6728779.0                  Construction            1   \n",
       "5008  United Kingdom   10008585.0            Financial Services            1   \n",
       "5009         Finland   18882000.0                        Retail            1   \n",
       "\n",
       "      year  \n",
       "4990  2016  \n",
       "4991  2016  \n",
       "4992  2016  \n",
       "4993  2016  \n",
       "4994  2017  \n",
       "4995  2017  \n",
       "4996  2017  \n",
       "4997  2017  \n",
       "4998  2017  \n",
       "4999  2017  \n",
       "5000  2017  \n",
       "5001  2017  \n",
       "5002  2017  \n",
       "5003  2017  \n",
       "5004  2017  \n",
       "5005  2017  \n",
       "5006  2017  \n",
       "5007  2017  \n",
       "5008  2017  \n",
       "5009  2017  "
      ]
     },
     "execution_count": 26,
     "metadata": {},
     "output_type": "execute_result"
    }
   ],
   "source": [
    "europeTable.iloc[4990:5010,:]"
   ]
  },
  {
   "cell_type": "code",
   "execution_count": 27,
   "metadata": {},
   "outputs": [
    {
     "data": {
      "text/plain": [
       "city            True\n",
       "growth          True\n",
       "company         True\n",
       "country         True\n",
       "revenue         True\n",
       "industry       False\n",
       "yrs_on_list    False\n",
       "year           False\n",
       "dtype: bool"
      ]
     },
     "execution_count": 27,
     "metadata": {},
     "output_type": "execute_result"
    }
   ],
   "source": [
    "europeTable.isnull().any()"
   ]
  },
  {
   "cell_type": "markdown",
   "metadata": {},
   "source": [
    "#### Delete all rows that have no value for the company,country, and growth column"
   ]
  },
  {
   "cell_type": "code",
   "execution_count": 28,
   "metadata": {},
   "outputs": [],
   "source": [
    "europeTable=europeTable.drop(europeTable.loc[(europeTable[\"company\"].isnull()),:].index[:])\n",
    "europeTable=europeTable.drop(europeTable.loc[(europeTable[\"country\"].isnull()),:].index[:])\n",
    "europeTable=europeTable.drop(europeTable.loc[(europeTable[\"growth\"].isnull()),:].index[:])"
   ]
  },
  {
   "cell_type": "markdown",
   "metadata": {},
   "source": [
    "#### Confirm there are no null values in table"
   ]
  },
  {
   "cell_type": "code",
   "execution_count": 29,
   "metadata": {},
   "outputs": [
    {
     "data": {
      "text/plain": [
       "city           False\n",
       "growth         False\n",
       "company        False\n",
       "country        False\n",
       "revenue        False\n",
       "industry       False\n",
       "yrs_on_list    False\n",
       "year           False\n",
       "dtype: bool"
      ]
     },
     "execution_count": 29,
     "metadata": {},
     "output_type": "execute_result"
    }
   ],
   "source": [
    "europeTable.isnull().any()"
   ]
  },
  {
   "cell_type": "code",
   "execution_count": 30,
   "metadata": {},
   "outputs": [],
   "source": [
    "europeTable.to_csv(\"Testeuclean.csv\",index=False)"
   ]
  },
  {
   "cell_type": "markdown",
   "metadata": {},
   "source": [
    "# Analysis"
   ]
  },
  {
   "cell_type": "markdown",
   "metadata": {},
   "source": [
    "### Scatterplots Revenue vs Growth per Industry"
   ]
  },
  {
   "cell_type": "code",
   "execution_count": 31,
   "metadata": {},
   "outputs": [
    {
     "data": {
      "text/plain": [
       "<seaborn.axisgrid.FacetGrid at 0x18b81075748>"
      ]
     },
     "execution_count": 31,
     "metadata": {},
     "output_type": "execute_result"
    },
    {
     "data": {
      "image/png": "[encoded data removed]",
      "text/plain": [
       "<Figure size 360x360 with 1 Axes>"
      ]
     },
     "metadata": {},
     "output_type": "display_data"
    }
   ],
   "source": [
    "# Provide a dictionary to the palette argument\n",
    "sns.lmplot( x=\"revenue\", y=\"growth\", data=usTable, fit_reg=False, \n",
    "           legend=False, palette=dict(setosa=\"#9b59b6\", virginica=\"#3498db\", versicolor=\"#95a5a6\"))"
   ]
  },
  {
   "cell_type": "code",
   "execution_count": null,
   "metadata": {},
   "outputs": [],
   "source": []
  },
  {
   "cell_type": "markdown",
   "metadata": {},
   "source": [
    "### Stripplots Industry vs Revenue"
   ]
  },
  {
   "cell_type": "code",
   "execution_count": 32,
   "metadata": {},
   "outputs": [
    {
     "data": {
      "text/plain": [
       "(array([ 0,  1,  2,  3,  4,  5,  6,  7,  8,  9, 10, 11, 12, 13, 14, 15, 16,\n",
       "        17, 18, 19, 20, 21, 22, 23, 24]),\n",
       " <a list of 25 Text xticklabel objects>)"
      ]
     },
     "execution_count": 32,
     "metadata": {},
     "output_type": "execute_result"
    },
    {
     "data": {
      "image/png": "[encoded data removed]",
      "text/plain": [
       "<Figure size 432x288 with 1 Axes>"
      ]
     },
     "metadata": {},
     "output_type": "display_data"
    }
   ],
   "source": [
    "sns.stripplot(x=\"industry\", y=\"revenue\", jitter=True, data=usTable)\n",
    "plt.xticks(rotation=85)"
   ]
  },
  {
   "cell_type": "code",
   "execution_count": 33,
   "metadata": {},
   "outputs": [
    {
     "data": {
      "text/plain": [
       "(array([ 0,  1,  2,  3,  4,  5,  6,  7,  8,  9, 10, 11, 12, 13, 14, 15, 16,\n",
       "        17, 18, 19, 20, 21, 22, 23, 24, 25]),\n",
       " <a list of 26 Text xticklabel objects>)"
      ]
     },
     "execution_count": 33,
     "metadata": {},
     "output_type": "execute_result"
    },
    {
     "data": {
      "image/png": "[encoded data removed]",
      "text/plain": [
       "<Figure size 432x288 with 1 Axes>"
      ]
     },
     "metadata": {},
     "output_type": "display_data"
    }
   ],
   "source": [
    "sns.stripplot(x=\"industry\", y=\"revenue\", jitter=True, data=europeTable)\n",
    "plt.xticks(rotation=85)"
   ]
  },
  {
   "cell_type": "code",
   "execution_count": null,
   "metadata": {},
   "outputs": [],
   "source": []
  },
  {
   "cell_type": "markdown",
   "metadata": {},
   "source": [
    "### Revenue by Industry (Europe versus US)"
   ]
  },
  {
   "cell_type": "code",
   "execution_count": 34,
   "metadata": {},
   "outputs": [],
   "source": [
    "us10yr=pd.read_csv(\"US2007to2018.csv\" ,encoding=\"latin1\")\n",
    "eu16_17_18=pd.read_csv(\"euclean.csv\",encoding=\"latin1\" )"
   ]
  },
  {
   "cell_type": "markdown",
   "metadata": {},
   "source": [
    "#### Drop category that isnt on both datasets"
   ]
  },
  {
   "cell_type": "code",
   "execution_count": 35,
   "metadata": {},
   "outputs": [],
   "source": [
    "without_agricult=eu16_17_18.drop(eu16_17_18.loc[(eu16_17_18['industry']=='Agriculture & Natural Resources'),:].index[:])"
   ]
  },
  {
   "cell_type": "markdown",
   "metadata": {},
   "source": [
    "#### Analyze only past three years"
   ]
  },
  {
   "cell_type": "code",
   "execution_count": 36,
   "metadata": {},
   "outputs": [],
   "source": [
    "us16_17_18=us10yr.loc[(us10yr['year']==2016) | (us10yr['year']==2017) | (us10yr['year']==2018),:]"
   ]
  },
  {
   "cell_type": "markdown",
   "metadata": {},
   "source": [
    "#### Reset and drop outdated index"
   ]
  },
  {
   "cell_type": "code",
   "execution_count": 37,
   "metadata": {},
   "outputs": [],
   "source": [
    "us16_17_18=us16_17_18.reset_index()\n",
    "us16_17_18=us16_17_18.drop(\"index\", axis=1)"
   ]
  },
  {
   "cell_type": "markdown",
   "metadata": {},
   "source": [
    "#### Group data by industry"
   ]
  },
  {
   "cell_type": "code",
   "execution_count": 38,
   "metadata": {},
   "outputs": [],
   "source": [
    "us_industry_grouped=us16_17_18.groupby(by='industry')[['industry','revenue']].sum()\n",
    "eu_industry_grouped=without_agricult.groupby(by='industry')[['industry','revenue']].sum()"
   ]
  },
  {
   "cell_type": "markdown",
   "metadata": {},
   "source": [
    "#### Only show columns with interesting data"
   ]
  },
  {
   "cell_type": "code",
   "execution_count": 39,
   "metadata": {},
   "outputs": [],
   "source": [
    "us_sub=us_industry_grouped.iloc[[0,4,6,9,11,12,13,14,15,17,19,20,21,22],:]\n",
    "eu_sub=eu_industry_grouped.iloc[[0,4,6,9,11,12,13,14,15,17,19,20,21,22],:]"
   ]
  },
  {
   "cell_type": "markdown",
   "metadata": {},
   "source": [
    "#### Create figure for double bargraph"
   ]
  },
  {
   "cell_type": "code",
   "execution_count": 40,
   "metadata": {},
   "outputs": [
    {
     "data": {
      "text/plain": [
       "<Figure size 432x288 with 0 Axes>"
      ]
     },
     "metadata": {},
     "output_type": "display_data"
    }
   ],
   "source": [
    "fig = plt.figure()"
   ]
  },
  {
   "cell_type": "code",
   "execution_count": 41,
   "metadata": {},
   "outputs": [
    {
     "data": {
      "text/plain": [
       "<matplotlib.axes._subplots.AxesSubplot at 0x18b82c9b898>"
      ]
     },
     "execution_count": 41,
     "metadata": {},
     "output_type": "execute_result"
    },
    {
     "data": {
      "image/png": "[encoded data removed]",
      "text/plain": [
       "<Figure size 1080x576 with 1 Axes>"
      ]
     },
     "metadata": {},
     "output_type": "display_data"
    }
   ],
   "source": [
    "fig=us_sub.revenue.plot(kind='bar', figsize=(15,8),color='#d62728',position=0,legend=True, label='United States')\n",
    "fig=eu_sub.revenue.plot(kind='bar', color=\"#1f77b4\", position=1, legend=True, label='Europe',align='edge', title='Revenue By Industry')\n",
    "fig.autoscale()\n",
    "fig.set_ylabel('Total Revenue in Billions',fontsize='large')\n",
    "fig.set_xlabel('Industry', fontsize='large')\n",
    "fig"
   ]
  },
  {
   "cell_type": "markdown",
   "metadata": {},
   "source": [
    "### Lax Visualizations"
   ]
  },
  {
   "cell_type": "code",
   "execution_count": 42,
   "metadata": {},
   "outputs": [
    {
     "data": {
      "text/plain": [
       "{'IT Services': 5954,\n",
       " 'Business Products & Services': 4556,\n",
       " 'Advertising & Marketing': 3919,\n",
       " 'Health': 3367,\n",
       " 'Software': 2867,\n",
       " 'Manufacturing': 2290,\n",
       " 'Government Services': 2258,\n",
       " 'Financial Services': 2145,\n",
       " 'Construction': 2142,\n",
       " 'Consumer Products & Services': 1964,\n",
       " 'Retail': 1705,\n",
       " 'Human Resources': 1701,\n",
       " 'Telecommunications': 1298,\n",
       " 'Logistics & Transportation': 1264,\n",
       " 'Food & Beverage': 1255,\n",
       " 'Energy': 925,\n",
       " 'Real Estate': 850,\n",
       " 'Engineering': 771,\n",
       " 'Education': 697,\n",
       " 'Security': 644,\n",
       " 'Insurance': 600,\n",
       " 'Environmental Services': 580,\n",
       " 'Media': 564,\n",
       " 'Travel & Hospitality': 455,\n",
       " 'Computer Hardware': 376}"
      ]
     },
     "execution_count": 42,
     "metadata": {},
     "output_type": "execute_result"
    }
   ],
   "source": [
    "dfnew = usTable[\"industry\"].value_counts().to_dict()\n",
    "dfnew"
   ]
  },
  {
   "cell_type": "code",
   "execution_count": 45,
   "metadata": {},
   "outputs": [
    {
     "data": {
      "text/html": [
       "<div>\n",
       "<style scoped>\n",
       "    .dataframe tbody tr th:only-of-type {\n",
       "        vertical-align: middle;\n",
       "    }\n",
       "\n",
       "    .dataframe tbody tr th {\n",
       "        vertical-align: top;\n",
       "    }\n",
       "\n",
       "    .dataframe thead th {\n",
       "        text-align: right;\n",
       "    }\n",
       "</style>\n",
       "<table border=\"1\" class=\"dataframe\">\n",
       "  <thead>\n",
       "    <tr style=\"text-align: right;\">\n",
       "      <th></th>\n",
       "      <th>year</th>\n",
       "      <th>city</th>\n",
       "      <th>growth</th>\n",
       "      <th>workers</th>\n",
       "      <th>company</th>\n",
       "      <th>state_s</th>\n",
       "      <th>revenue</th>\n",
       "      <th>industry</th>\n",
       "      <th>yrsonlist</th>\n",
       "    </tr>\n",
       "  </thead>\n",
       "  <tbody>\n",
       "    <tr>\n",
       "      <th>0</th>\n",
       "      <td>2011</td>\n",
       "      <td>Nashville</td>\n",
       "      <td>14.2416</td>\n",
       "      <td>194000</td>\n",
       "      <td>HCA</td>\n",
       "      <td>TN</td>\n",
       "      <td>30683000000</td>\n",
       "      <td>Health</td>\n",
       "      <td>2</td>\n",
       "    </tr>\n",
       "    <tr>\n",
       "      <th>1</th>\n",
       "      <td>2010</td>\n",
       "      <td>Nashville</td>\n",
       "      <td>17.9574</td>\n",
       "      <td>192000</td>\n",
       "      <td>HCA</td>\n",
       "      <td>TN</td>\n",
       "      <td>30052000000</td>\n",
       "      <td>Health</td>\n",
       "      <td>2</td>\n",
       "    </tr>\n",
       "    <tr>\n",
       "      <th>2</th>\n",
       "      <td>2012</td>\n",
       "      <td>Lakeland</td>\n",
       "      <td>12.6972</td>\n",
       "      <td>152000</td>\n",
       "      <td>Publix</td>\n",
       "      <td>FL</td>\n",
       "      <td>26967389000</td>\n",
       "      <td>Food &amp; Beverage</td>\n",
       "      <td>2</td>\n",
       "    </tr>\n",
       "    <tr>\n",
       "      <th>3</th>\n",
       "      <td>2011</td>\n",
       "      <td>Lakeland</td>\n",
       "      <td>9.1998</td>\n",
       "      <td>148000</td>\n",
       "      <td>Publix</td>\n",
       "      <td>FL</td>\n",
       "      <td>25134054000</td>\n",
       "      <td>Food &amp; Beverage</td>\n",
       "      <td>2</td>\n",
       "    </tr>\n",
       "    <tr>\n",
       "      <th>4</th>\n",
       "      <td>2018</td>\n",
       "      <td>Eagan</td>\n",
       "      <td>372.1123</td>\n",
       "      <td>4329</td>\n",
       "      <td>Prime Therapeutics</td>\n",
       "      <td>MN</td>\n",
       "      <td>16433210000</td>\n",
       "      <td>Health</td>\n",
       "      <td>7</td>\n",
       "    </tr>\n",
       "  </tbody>\n",
       "</table>\n",
       "</div>"
      ],
      "text/plain": [
       "   year       city    growth  workers             company state_s  \\\n",
       "0  2011  Nashville   14.2416   194000                 HCA      TN   \n",
       "1  2010  Nashville   17.9574   192000                 HCA      TN   \n",
       "2  2012   Lakeland   12.6972   152000              Publix      FL   \n",
       "3  2011   Lakeland    9.1998   148000              Publix      FL   \n",
       "4  2018      Eagan  372.1123     4329  Prime Therapeutics      MN   \n",
       "\n",
       "       revenue         industry  yrsonlist  \n",
       "0  30683000000           Health          2  \n",
       "1  30052000000           Health          2  \n",
       "2  26967389000  Food & Beverage          2  \n",
       "3  25134054000  Food & Beverage          2  \n",
       "4  16433210000           Health          7  "
      ]
     },
     "execution_count": 45,
     "metadata": {},
     "output_type": "execute_result"
    }
   ],
   "source": [
    "us10yr.head()"
   ]
  },
  {
   "cell_type": "code",
   "execution_count": 44,
   "metadata": {},
   "outputs": [
    {
     "ename": "KeyError",
     "evalue": "'rank'",
     "output_type": "error",
     "traceback": [
      "\u001b[1;31m---------------------------------------------------------------------------\u001b[0m",
      "\u001b[1;31mKeyError\u001b[0m                                  Traceback (most recent call last)",
      "\u001b[1;32m~\\Anaconda3\\lib\\site-packages\\pandas\\core\\indexes\\base.py\u001b[0m in \u001b[0;36mget_loc\u001b[1;34m(self, key, method, tolerance)\u001b[0m\n\u001b[0;32m   3062\u001b[0m             \u001b[1;32mtry\u001b[0m\u001b[1;33m:\u001b[0m\u001b[1;33m\u001b[0m\u001b[0m\n\u001b[1;32m-> 3063\u001b[1;33m                 \u001b[1;32mreturn\u001b[0m \u001b[0mself\u001b[0m\u001b[1;33m.\u001b[0m\u001b[0m_engine\u001b[0m\u001b[1;33m.\u001b[0m\u001b[0mget_loc\u001b[0m\u001b[1;33m(\u001b[0m\u001b[0mkey\u001b[0m\u001b[1;33m)\u001b[0m\u001b[1;33m\u001b[0m\u001b[0m\n\u001b[0m\u001b[0;32m   3064\u001b[0m             \u001b[1;32mexcept\u001b[0m \u001b[0mKeyError\u001b[0m\u001b[1;33m:\u001b[0m\u001b[1;33m\u001b[0m\u001b[0m\n",
      "\u001b[1;32mpandas\\_libs\\index.pyx\u001b[0m in \u001b[0;36mpandas._libs.index.IndexEngine.get_loc\u001b[1;34m()\u001b[0m\n",
      "\u001b[1;32mpandas\\_libs\\index.pyx\u001b[0m in \u001b[0;36mpandas._libs.index.IndexEngine.get_loc\u001b[1;34m()\u001b[0m\n",
      "\u001b[1;32mpandas\\_libs\\hashtable_class_helper.pxi\u001b[0m in \u001b[0;36mpandas._libs.hashtable.PyObjectHashTable.get_item\u001b[1;34m()\u001b[0m\n",
      "\u001b[1;32mpandas\\_libs\\hashtable_class_helper.pxi\u001b[0m in \u001b[0;36mpandas._libs.hashtable.PyObjectHashTable.get_item\u001b[1;34m()\u001b[0m\n",
      "\u001b[1;31mKeyError\u001b[0m: 'rank'",
      "\nDuring handling of the above exception, another exception occurred:\n",
      "\u001b[1;31mKeyError\u001b[0m                                  Traceback (most recent call last)",
      "\u001b[1;32m<ipython-input-44-be389df1d493>\u001b[0m in \u001b[0;36m<module>\u001b[1;34m()\u001b[0m\n\u001b[1;32m----> 1\u001b[1;33m \u001b[0mindustry_rank1\u001b[0m \u001b[1;33m=\u001b[0m \u001b[0mus10yr\u001b[0m\u001b[1;33m[\u001b[0m\u001b[0mus10yr\u001b[0m\u001b[1;33m[\u001b[0m\u001b[1;34m'rank'\u001b[0m\u001b[1;33m]\u001b[0m\u001b[1;33m==\u001b[0m\u001b[1;36m1\u001b[0m\u001b[1;33m]\u001b[0m\u001b[1;33m[\u001b[0m\u001b[1;34m'industry'\u001b[0m\u001b[1;33m]\u001b[0m\u001b[1;33m.\u001b[0m\u001b[0mvalue_counts\u001b[0m\u001b[1;33m(\u001b[0m\u001b[1;33m)\u001b[0m\u001b[1;33m\u001b[0m\u001b[0m\n\u001b[0m\u001b[0;32m      2\u001b[0m \u001b[0mindustry_rank2\u001b[0m \u001b[1;33m=\u001b[0m \u001b[0mus10yr\u001b[0m\u001b[1;33m[\u001b[0m\u001b[0mus10yr\u001b[0m\u001b[1;33m[\u001b[0m\u001b[1;34m'rank'\u001b[0m\u001b[1;33m]\u001b[0m\u001b[1;33m==\u001b[0m\u001b[1;36m2\u001b[0m\u001b[1;33m]\u001b[0m\u001b[1;33m[\u001b[0m\u001b[1;34m'industry'\u001b[0m\u001b[1;33m]\u001b[0m\u001b[1;33m.\u001b[0m\u001b[0mvalue_counts\u001b[0m\u001b[1;33m(\u001b[0m\u001b[1;33m)\u001b[0m\u001b[1;33m\u001b[0m\u001b[0m\n\u001b[0;32m      3\u001b[0m \u001b[1;31m#making seperate dataframe with required values for plotting\u001b[0m\u001b[1;33m\u001b[0m\u001b[1;33m\u001b[0m\u001b[0m\n\u001b[0;32m      4\u001b[0m \u001b[0mdf_New\u001b[0m \u001b[1;33m=\u001b[0m \u001b[0mpd\u001b[0m\u001b[1;33m.\u001b[0m\u001b[0mDataFrame\u001b[0m\u001b[1;33m(\u001b[0m\u001b[1;33m[\u001b[0m\u001b[0mindustry_rank1\u001b[0m\u001b[1;33m,\u001b[0m\u001b[0mindustry_rank2\u001b[0m\u001b[1;33m]\u001b[0m\u001b[1;33m)\u001b[0m\u001b[1;33m\u001b[0m\u001b[0m\n\u001b[0;32m      5\u001b[0m \u001b[0mdf_New\u001b[0m\u001b[1;33m.\u001b[0m\u001b[0mindex\u001b[0m \u001b[1;33m=\u001b[0m \u001b[1;33m[\u001b[0m\u001b[1;34m'rank1'\u001b[0m\u001b[1;33m,\u001b[0m\u001b[1;34m'rank2'\u001b[0m\u001b[1;33m]\u001b[0m\u001b[1;33m\u001b[0m\u001b[0m\n",
      "\u001b[1;32m~\\Anaconda3\\lib\\site-packages\\pandas\\core\\frame.py\u001b[0m in \u001b[0;36m__getitem__\u001b[1;34m(self, key)\u001b[0m\n\u001b[0;32m   2683\u001b[0m             \u001b[1;32mreturn\u001b[0m \u001b[0mself\u001b[0m\u001b[1;33m.\u001b[0m\u001b[0m_getitem_multilevel\u001b[0m\u001b[1;33m(\u001b[0m\u001b[0mkey\u001b[0m\u001b[1;33m)\u001b[0m\u001b[1;33m\u001b[0m\u001b[0m\n\u001b[0;32m   2684\u001b[0m         \u001b[1;32melse\u001b[0m\u001b[1;33m:\u001b[0m\u001b[1;33m\u001b[0m\u001b[0m\n\u001b[1;32m-> 2685\u001b[1;33m             \u001b[1;32mreturn\u001b[0m \u001b[0mself\u001b[0m\u001b[1;33m.\u001b[0m\u001b[0m_getitem_column\u001b[0m\u001b[1;33m(\u001b[0m\u001b[0mkey\u001b[0m\u001b[1;33m)\u001b[0m\u001b[1;33m\u001b[0m\u001b[0m\n\u001b[0m\u001b[0;32m   2686\u001b[0m \u001b[1;33m\u001b[0m\u001b[0m\n\u001b[0;32m   2687\u001b[0m     \u001b[1;32mdef\u001b[0m \u001b[0m_getitem_column\u001b[0m\u001b[1;33m(\u001b[0m\u001b[0mself\u001b[0m\u001b[1;33m,\u001b[0m \u001b[0mkey\u001b[0m\u001b[1;33m)\u001b[0m\u001b[1;33m:\u001b[0m\u001b[1;33m\u001b[0m\u001b[0m\n",
      "\u001b[1;32m~\\Anaconda3\\lib\\site-packages\\pandas\\core\\frame.py\u001b[0m in \u001b[0;36m_getitem_column\u001b[1;34m(self, key)\u001b[0m\n\u001b[0;32m   2690\u001b[0m         \u001b[1;31m# get column\u001b[0m\u001b[1;33m\u001b[0m\u001b[1;33m\u001b[0m\u001b[0m\n\u001b[0;32m   2691\u001b[0m         \u001b[1;32mif\u001b[0m \u001b[0mself\u001b[0m\u001b[1;33m.\u001b[0m\u001b[0mcolumns\u001b[0m\u001b[1;33m.\u001b[0m\u001b[0mis_unique\u001b[0m\u001b[1;33m:\u001b[0m\u001b[1;33m\u001b[0m\u001b[0m\n\u001b[1;32m-> 2692\u001b[1;33m             \u001b[1;32mreturn\u001b[0m \u001b[0mself\u001b[0m\u001b[1;33m.\u001b[0m\u001b[0m_get_item_cache\u001b[0m\u001b[1;33m(\u001b[0m\u001b[0mkey\u001b[0m\u001b[1;33m)\u001b[0m\u001b[1;33m\u001b[0m\u001b[0m\n\u001b[0m\u001b[0;32m   2693\u001b[0m \u001b[1;33m\u001b[0m\u001b[0m\n\u001b[0;32m   2694\u001b[0m         \u001b[1;31m# duplicate columns & possible reduce dimensionality\u001b[0m\u001b[1;33m\u001b[0m\u001b[1;33m\u001b[0m\u001b[0m\n",
      "\u001b[1;32m~\\Anaconda3\\lib\\site-packages\\pandas\\core\\generic.py\u001b[0m in \u001b[0;36m_get_item_cache\u001b[1;34m(self, item)\u001b[0m\n\u001b[0;32m   2484\u001b[0m         \u001b[0mres\u001b[0m \u001b[1;33m=\u001b[0m \u001b[0mcache\u001b[0m\u001b[1;33m.\u001b[0m\u001b[0mget\u001b[0m\u001b[1;33m(\u001b[0m\u001b[0mitem\u001b[0m\u001b[1;33m)\u001b[0m\u001b[1;33m\u001b[0m\u001b[0m\n\u001b[0;32m   2485\u001b[0m         \u001b[1;32mif\u001b[0m \u001b[0mres\u001b[0m \u001b[1;32mis\u001b[0m \u001b[1;32mNone\u001b[0m\u001b[1;33m:\u001b[0m\u001b[1;33m\u001b[0m\u001b[0m\n\u001b[1;32m-> 2486\u001b[1;33m             \u001b[0mvalues\u001b[0m \u001b[1;33m=\u001b[0m \u001b[0mself\u001b[0m\u001b[1;33m.\u001b[0m\u001b[0m_data\u001b[0m\u001b[1;33m.\u001b[0m\u001b[0mget\u001b[0m\u001b[1;33m(\u001b[0m\u001b[0mitem\u001b[0m\u001b[1;33m)\u001b[0m\u001b[1;33m\u001b[0m\u001b[0m\n\u001b[0m\u001b[0;32m   2487\u001b[0m             \u001b[0mres\u001b[0m \u001b[1;33m=\u001b[0m \u001b[0mself\u001b[0m\u001b[1;33m.\u001b[0m\u001b[0m_box_item_values\u001b[0m\u001b[1;33m(\u001b[0m\u001b[0mitem\u001b[0m\u001b[1;33m,\u001b[0m \u001b[0mvalues\u001b[0m\u001b[1;33m)\u001b[0m\u001b[1;33m\u001b[0m\u001b[0m\n\u001b[0;32m   2488\u001b[0m             \u001b[0mcache\u001b[0m\u001b[1;33m[\u001b[0m\u001b[0mitem\u001b[0m\u001b[1;33m]\u001b[0m \u001b[1;33m=\u001b[0m \u001b[0mres\u001b[0m\u001b[1;33m\u001b[0m\u001b[0m\n",
      "\u001b[1;32m~\\Anaconda3\\lib\\site-packages\\pandas\\core\\internals.py\u001b[0m in \u001b[0;36mget\u001b[1;34m(self, item, fastpath)\u001b[0m\n\u001b[0;32m   4113\u001b[0m \u001b[1;33m\u001b[0m\u001b[0m\n\u001b[0;32m   4114\u001b[0m             \u001b[1;32mif\u001b[0m \u001b[1;32mnot\u001b[0m \u001b[0misna\u001b[0m\u001b[1;33m(\u001b[0m\u001b[0mitem\u001b[0m\u001b[1;33m)\u001b[0m\u001b[1;33m:\u001b[0m\u001b[1;33m\u001b[0m\u001b[0m\n\u001b[1;32m-> 4115\u001b[1;33m                 \u001b[0mloc\u001b[0m \u001b[1;33m=\u001b[0m \u001b[0mself\u001b[0m\u001b[1;33m.\u001b[0m\u001b[0mitems\u001b[0m\u001b[1;33m.\u001b[0m\u001b[0mget_loc\u001b[0m\u001b[1;33m(\u001b[0m\u001b[0mitem\u001b[0m\u001b[1;33m)\u001b[0m\u001b[1;33m\u001b[0m\u001b[0m\n\u001b[0m\u001b[0;32m   4116\u001b[0m             \u001b[1;32melse\u001b[0m\u001b[1;33m:\u001b[0m\u001b[1;33m\u001b[0m\u001b[0m\n\u001b[0;32m   4117\u001b[0m                 \u001b[0mindexer\u001b[0m \u001b[1;33m=\u001b[0m \u001b[0mnp\u001b[0m\u001b[1;33m.\u001b[0m\u001b[0marange\u001b[0m\u001b[1;33m(\u001b[0m\u001b[0mlen\u001b[0m\u001b[1;33m(\u001b[0m\u001b[0mself\u001b[0m\u001b[1;33m.\u001b[0m\u001b[0mitems\u001b[0m\u001b[1;33m)\u001b[0m\u001b[1;33m)\u001b[0m\u001b[1;33m[\u001b[0m\u001b[0misna\u001b[0m\u001b[1;33m(\u001b[0m\u001b[0mself\u001b[0m\u001b[1;33m.\u001b[0m\u001b[0mitems\u001b[0m\u001b[1;33m)\u001b[0m\u001b[1;33m]\u001b[0m\u001b[1;33m\u001b[0m\u001b[0m\n",
      "\u001b[1;32m~\\Anaconda3\\lib\\site-packages\\pandas\\core\\indexes\\base.py\u001b[0m in \u001b[0;36mget_loc\u001b[1;34m(self, key, method, tolerance)\u001b[0m\n\u001b[0;32m   3063\u001b[0m                 \u001b[1;32mreturn\u001b[0m \u001b[0mself\u001b[0m\u001b[1;33m.\u001b[0m\u001b[0m_engine\u001b[0m\u001b[1;33m.\u001b[0m\u001b[0mget_loc\u001b[0m\u001b[1;33m(\u001b[0m\u001b[0mkey\u001b[0m\u001b[1;33m)\u001b[0m\u001b[1;33m\u001b[0m\u001b[0m\n\u001b[0;32m   3064\u001b[0m             \u001b[1;32mexcept\u001b[0m \u001b[0mKeyError\u001b[0m\u001b[1;33m:\u001b[0m\u001b[1;33m\u001b[0m\u001b[0m\n\u001b[1;32m-> 3065\u001b[1;33m                 \u001b[1;32mreturn\u001b[0m \u001b[0mself\u001b[0m\u001b[1;33m.\u001b[0m\u001b[0m_engine\u001b[0m\u001b[1;33m.\u001b[0m\u001b[0mget_loc\u001b[0m\u001b[1;33m(\u001b[0m\u001b[0mself\u001b[0m\u001b[1;33m.\u001b[0m\u001b[0m_maybe_cast_indexer\u001b[0m\u001b[1;33m(\u001b[0m\u001b[0mkey\u001b[0m\u001b[1;33m)\u001b[0m\u001b[1;33m)\u001b[0m\u001b[1;33m\u001b[0m\u001b[0m\n\u001b[0m\u001b[0;32m   3066\u001b[0m \u001b[1;33m\u001b[0m\u001b[0m\n\u001b[0;32m   3067\u001b[0m         \u001b[0mindexer\u001b[0m \u001b[1;33m=\u001b[0m \u001b[0mself\u001b[0m\u001b[1;33m.\u001b[0m\u001b[0mget_indexer\u001b[0m\u001b[1;33m(\u001b[0m\u001b[1;33m[\u001b[0m\u001b[0mkey\u001b[0m\u001b[1;33m]\u001b[0m\u001b[1;33m,\u001b[0m \u001b[0mmethod\u001b[0m\u001b[1;33m=\u001b[0m\u001b[0mmethod\u001b[0m\u001b[1;33m,\u001b[0m \u001b[0mtolerance\u001b[0m\u001b[1;33m=\u001b[0m\u001b[0mtolerance\u001b[0m\u001b[1;33m)\u001b[0m\u001b[1;33m\u001b[0m\u001b[0m\n",
      "\u001b[1;32mpandas\\_libs\\index.pyx\u001b[0m in \u001b[0;36mpandas._libs.index.IndexEngine.get_loc\u001b[1;34m()\u001b[0m\n",
      "\u001b[1;32mpandas\\_libs\\index.pyx\u001b[0m in \u001b[0;36mpandas._libs.index.IndexEngine.get_loc\u001b[1;34m()\u001b[0m\n",
      "\u001b[1;32mpandas\\_libs\\hashtable_class_helper.pxi\u001b[0m in \u001b[0;36mpandas._libs.hashtable.PyObjectHashTable.get_item\u001b[1;34m()\u001b[0m\n",
      "\u001b[1;32mpandas\\_libs\\hashtable_class_helper.pxi\u001b[0m in \u001b[0;36mpandas._libs.hashtable.PyObjectHashTable.get_item\u001b[1;34m()\u001b[0m\n",
      "\u001b[1;31mKeyError\u001b[0m: 'rank'"
     ]
    }
   ],
   "source": [
    "industry_rank1 = us10yr[us10yr['rank']==1]['industry'].value_counts()\n",
    "industry_rank2 = us10yr[us10yr['rank']==2]['industry'].value_counts()\n",
    "#making seperate dataframe with required values for plotting\n",
    "df_New = pd.DataFrame([industry_rank1,industry_rank2])\n",
    "df_New.index = ['rank1','rank2']\n",
    "figure=df_New.plot(kind='bar',figsize=(15,8))\n",
    "figure.legend(loc='upper center')"
   ]
  },
  {
   "cell_type": "code",
   "execution_count": null,
   "metadata": {},
   "outputs": [],
   "source": [
    "sns.barplot(x=\"industry\", y=\"revenue\", data=usTable)\n",
    "plt.xticks(rotation=85)"
   ]
  },
  {
   "cell_type": "code",
   "execution_count": null,
   "metadata": {},
   "outputs": [],
   "source": [
    "sns.barplot(x=\"industry\", y=\"revenue\", data=europeTable)\n",
    "plt.xticks(rotation=85)"
   ]
  },
  {
   "cell_type": "markdown",
   "metadata": {},
   "source": [
    "### Heatmap (Frequency of State listed on dataset)"
   ]
  },
  {
   "cell_type": "code",
   "execution_count": 54,
   "metadata": {},
   "outputs": [
    {
     "name": "stdout",
     "output_type": "stream",
     "text": [
      "········\n"
     ]
    }
   ],
   "source": [
    "api_key=getpass.getpass()"
   ]
  },
  {
   "cell_type": "code",
   "execution_count": 55,
   "metadata": {},
   "outputs": [],
   "source": [
    "gmaps.configure(api_key=api_key)"
   ]
  },
  {
   "cell_type": "markdown",
   "metadata": {},
   "source": [
    "#### Only take data from past 3 years"
   ]
  },
  {
   "cell_type": "code",
   "execution_count": 46,
   "metadata": {},
   "outputs": [],
   "source": [
    "city_state=us10yrclean.loc[(us10yrclean['year']==2016) | (us10yrclean['year']==2017) | (us10yrclean['year']==2018),['city','state_s']]"
   ]
  },
  {
   "cell_type": "markdown",
   "metadata": {},
   "source": [
    "#### Import csv with lat lng and the count of companies per State"
   ]
  },
  {
   "cell_type": "code",
   "execution_count": 47,
   "metadata": {},
   "outputs": [],
   "source": [
    "heatmapDF=pd.read_csv('Weighted_State_Lat_Lng.csv' ,encoding=\"latin1\")"
   ]
  },
  {
   "cell_type": "markdown",
   "metadata": {},
   "source": [
    "#### Convert string data into numeric"
   ]
  },
  {
   "cell_type": "code",
   "execution_count": 48,
   "metadata": {},
   "outputs": [],
   "source": [
    "locations = heatmapDF[[\"Lat\", \"Lng\"]].astype(float)\n",
    "companies_per_state=heatmapDF['Weight'].astype(float)"
   ]
  },
  {
   "cell_type": "markdown",
   "metadata": {},
   "source": [
    "#### Create heatmap"
   ]
  },
  {
   "cell_type": "code",
   "execution_count": 57,
   "metadata": {},
   "outputs": [],
   "source": [
    "fig = gmaps.figure()\n",
    "heat_layer = gmaps.heatmap_layer(locations, weights=companies_per_state, \n",
    "                                 dissipating=False)"
   ]
  },
  {
   "cell_type": "markdown",
   "metadata": {},
   "source": [
    "#### Set max_intensity to 1000 (max value in dataset is 2000)"
   ]
  },
  {
   "cell_type": "code",
   "execution_count": 58,
   "metadata": {},
   "outputs": [
    {
     "data": {
      "application/vnd.jupyter.widget-view+json": {
       "model_id": "84ff061a130b4959b83fbec3e6194eb6",
       "version_major": 2,
       "version_minor": 0
      },
      "text/plain": [
       "Figure(layout=FigureLayout(height='420px'))"
      ]
     },
     "metadata": {},
     "output_type": "display_data"
    }
   ],
   "source": [
    "heat_layer.dissipating = False\n",
    "heat_layer.max_intensity = 1000\n",
    "heat_layer.point_radius = 3\n",
    "\n",
    "fig.add_layer(heat_layer)\n",
    "\n",
    "fig"
   ]
  },
  {
   "cell_type": "code",
   "execution_count": null,
   "metadata": {},
   "outputs": [],
   "source": []
  },
  {
   "cell_type": "code",
   "execution_count": null,
   "metadata": {},
   "outputs": [],
   "source": []
  },
  {
   "cell_type": "code",
   "execution_count": null,
   "metadata": {},
   "outputs": [],
   "source": []
  },
  {
   "cell_type": "code",
   "execution_count": null,
   "metadata": {},
   "outputs": [],
   "source": []
  }
 ],
 "metadata": {
  "kernelspec": {
   "display_name": "Python 3",
   "language": "python",
   "name": "python3"
  },
  "language_info": {
   "codemirror_mode": {
    "name": "ipython",
    "version": 3
   },
   "file_extension": ".py",
   "mimetype": "text/x-python",
   "name": "python",
   "nbconvert_exporter": "python",
   "pygments_lexer": "ipython3",
   "version": "3.6.5"
  }
 },
 "nbformat": 4,
 "nbformat_minor": 2
}
